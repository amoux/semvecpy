{
 "cells": [
  {
   "cell_type": "code",
   "execution_count": 14,
   "metadata": {},
   "outputs": [
    {
     "name": "stdout",
     "output_type": "stream",
     "text": [
      "--2019-07-01 15:47:01--  https://www.dropbox.com/s/3f5qg9nfop2l45e/semanticvectors.bin\r\nResolving www.dropbox.com... 162.125.1.1\r\nConnecting to www.dropbox.com|162.125.1.1|:443... connected.\r\n"
     ]
    },
    {
     "name": "stdout",
     "output_type": "stream",
     "text": [
      "HTTP request sent, awaiting response... "
     ]
    },
    {
     "name": "stdout",
     "output_type": "stream",
     "text": [
      "301 Moved Permanently\r\nLocation: /s/raw/3f5qg9nfop2l45e/semanticvectors.bin [following]\r\n--2019-07-01 15:47:01--  https://www.dropbox.com/s/raw/3f5qg9nfop2l45e/semanticvectors.bin\r\nReusing existing connection to www.dropbox.com:443.\r\nHTTP request sent, awaiting response... "
     ]
    },
    {
     "name": "stdout",
     "output_type": "stream",
     "text": [
      "302 Found\r\nLocation: https://uc6c457017824c32dbc8f954f691.dl.dropboxusercontent.com/cd/0/inline/Aj6GLa_9QVcZGTGQRv2xhLJ4Y8cIoTgjoTlISVwJmWQi-G3j2-VQaYiTlW1hDzcdMvx1N0ICIqu66QOf2Sqt8YpLC4wWUmDJ5MMn3zLnh9wqsw/file# [following]\r\n--2019-07-01 15:47:01--  https://uc6c457017824c32dbc8f954f691.dl.dropboxusercontent.com/cd/0/inline/Aj6GLa_9QVcZGTGQRv2xhLJ4Y8cIoTgjoTlISVwJmWQi-G3j2-VQaYiTlW1hDzcdMvx1N0ICIqu66QOf2Sqt8YpLC4wWUmDJ5MMn3zLnh9wqsw/file\r\nResolving uc6c457017824c32dbc8f954f691.dl.dropboxusercontent.com... 162.125.1.6\r\nConnecting to uc6c457017824c32dbc8f954f691.dl.dropboxusercontent.com|162.125.1.6|:443... connected.\r\nHTTP request sent, awaiting response... "
     ]
    },
    {
     "name": "stdout",
     "output_type": "stream",
     "text": [
      "302 FOUND\r\nLocation: /cd/0/inline2/Aj7pmKkc0QtxfGOvnWz3ilqbwTyvKD0tDsDcosd4KU_hDYJ0ngriPQq6ggl1wkvl8aFtr513_soztqSvr0jAKuJTvCx-C_1ekvOi_p_G3_WJbH15VdqtLcUbjywM9WvVGy_Yvio4vrJkJcGQXUM6vu2WZ3X_98MpFi7GSPJO70IfgZVkyq6hnikUBaWTJcMBHaA4YepeDSXNHn7U8hMKdH55bwmpwaEUXCQj16kpDl9r3hYk1mc52GP9KJGmMknWZ6PeAf2_T24vZE-NIqIR-0LkCt6GqAXe5xi9KGK1ok3FQ0GoUuUnJLVym75J8KBtrovoxaQNi_xhX1S6VW7r0L8g/file [following]\r\n--2019-07-01 15:47:02--  https://uc6c457017824c32dbc8f954f691.dl.dropboxusercontent.com/cd/0/inline2/Aj7pmKkc0QtxfGOvnWz3ilqbwTyvKD0tDsDcosd4KU_hDYJ0ngriPQq6ggl1wkvl8aFtr513_soztqSvr0jAKuJTvCx-C_1ekvOi_p_G3_WJbH15VdqtLcUbjywM9WvVGy_Yvio4vrJkJcGQXUM6vu2WZ3X_98MpFi7GSPJO70IfgZVkyq6hnikUBaWTJcMBHaA4YepeDSXNHn7U8hMKdH55bwmpwaEUXCQj16kpDl9r3hYk1mc52GP9KJGmMknWZ6PeAf2_T24vZE-NIqIR-0LkCt6GqAXe5xi9KGK1ok3FQ0GoUuUnJLVym75J8KBtrovoxaQNi_xhX1S6VW7r0L8g/file\r\nReusing existing connection to uc6c457017824c32dbc8f954f691.dl.dropboxusercontent.com:443.\r\nHTTP request sent, awaiting response... "
     ]
    },
    {
     "name": "stdout",
     "output_type": "stream",
     "text": [
      "200 OK\r\nLength: 27530388 (26M) [application/octet-stream]\r\nSaving to: ‘semanticvectors.bin’\r\n\r\n\rsemanticvectors.bin   0%[                    ]       0  --.-KB/s               "
     ]
    },
    {
     "name": "stdout",
     "output_type": "stream",
     "text": [
      "\rsemanticvectors.bin   0%[                    ]  47.09K  --.-KB/s    in 0.05s   \r\n\r\n2019-07-01 15:47:02 (947 KB/s) - Read error at byte 48224/27530388 (error:1408F119:SSL routines:SSL3_GET_RECORD:decryption failed or bad record mac). Retrying.\r\n\r\n"
     ]
    },
    {
     "name": "stdout",
     "output_type": "stream",
     "text": [
      "--2019-07-01 15:47:03--  (try: 2)  https://uc6c457017824c32dbc8f954f691.dl.dropboxusercontent.com/cd/0/inline2/Aj7pmKkc0QtxfGOvnWz3ilqbwTyvKD0tDsDcosd4KU_hDYJ0ngriPQq6ggl1wkvl8aFtr513_soztqSvr0jAKuJTvCx-C_1ekvOi_p_G3_WJbH15VdqtLcUbjywM9WvVGy_Yvio4vrJkJcGQXUM6vu2WZ3X_98MpFi7GSPJO70IfgZVkyq6hnikUBaWTJcMBHaA4YepeDSXNHn7U8hMKdH55bwmpwaEUXCQj16kpDl9r3hYk1mc52GP9KJGmMknWZ6PeAf2_T24vZE-NIqIR-0LkCt6GqAXe5xi9KGK1ok3FQ0GoUuUnJLVym75J8KBtrovoxaQNi_xhX1S6VW7r0L8g/file\r\nConnecting to uc6c457017824c32dbc8f954f691.dl.dropboxusercontent.com|162.125.1.6|:443... connected.\r\nHTTP request sent, awaiting response... "
     ]
    },
    {
     "name": "stdout",
     "output_type": "stream",
     "text": [
      "206 PARTIAL CONTENT\r\nLength: 27530388 (26M), 27482164 (26M) remaining [application/octet-stream]\r\nSaving to: ‘semanticvectors.bin’\r\n\r\n\rsemanticvectors.bin   0%[                    ]  47.09K  --.-KB/s               "
     ]
    },
    {
     "name": "stdout",
     "output_type": "stream",
     "text": [
      "\rsemanticvectors.bin   8%[>                   ]   2.22M  12.2MB/s    in 0.2s    \r\n\r\n2019-07-01 15:47:04 (12.2 MB/s) - Read error at byte 2324642/27530388 (error:1408F119:SSL routines:SSL3_GET_RECORD:decryption failed or bad record mac). Retrying.\r\n\r\n"
     ]
    },
    {
     "name": "stdout",
     "output_type": "stream",
     "text": [
      "--2019-07-01 15:47:06--  (try: 3)  https://uc6c457017824c32dbc8f954f691.dl.dropboxusercontent.com/cd/0/inline2/Aj7pmKkc0QtxfGOvnWz3ilqbwTyvKD0tDsDcosd4KU_hDYJ0ngriPQq6ggl1wkvl8aFtr513_soztqSvr0jAKuJTvCx-C_1ekvOi_p_G3_WJbH15VdqtLcUbjywM9WvVGy_Yvio4vrJkJcGQXUM6vu2WZ3X_98MpFi7GSPJO70IfgZVkyq6hnikUBaWTJcMBHaA4YepeDSXNHn7U8hMKdH55bwmpwaEUXCQj16kpDl9r3hYk1mc52GP9KJGmMknWZ6PeAf2_T24vZE-NIqIR-0LkCt6GqAXe5xi9KGK1ok3FQ0GoUuUnJLVym75J8KBtrovoxaQNi_xhX1S6VW7r0L8g/file\r\nConnecting to uc6c457017824c32dbc8f954f691.dl.dropboxusercontent.com|162.125.1.6|:443... connected.\r\nHTTP request sent, awaiting response... "
     ]
    },
    {
     "name": "stdout",
     "output_type": "stream",
     "text": [
      "206 PARTIAL CONTENT\r\nLength: 27530388 (26M), 25205746 (24M) remaining [application/octet-stream]\r\nSaving to: ‘semanticvectors.bin’\r\n\r\n\rsemanticvectors.bin   8%[+                   ]   2.22M  --.-KB/s               "
     ]
    },
    {
     "name": "stdout",
     "output_type": "stream",
     "text": [
      "\rsemanticvectors.bin  14%[+>                  ]   3.82M  3.96MB/s               "
     ]
    },
    {
     "name": "stdout",
     "output_type": "stream",
     "text": [
      "\rsemanticvectors.bin  35%[+=====>             ]   9.32M  11.7MB/s               "
     ]
    },
    {
     "name": "stdout",
     "output_type": "stream",
     "text": [
      "\rsemanticvectors.bin  70%[+============>      ]  18.43M  20.1MB/s               "
     ]
    },
    {
     "name": "stdout",
     "output_type": "stream",
     "text": [
      "\rsemanticvectors.bin 100%[+==================>]  26.25M  25.9MB/s    in 0.9s    \r\n\r\n2019-07-01 15:47:07 (25.9 MB/s) - ‘semanticvectors.bin’ saved [27530388/27530388]\r\n\r\n"
     ]
    },
    {
     "name": "stdout",
     "output_type": "stream",
     "text": [
      "--2019-07-01 15:47:08--  https://www.dropbox.com/s/r8r8ffw9rnjmmo0/permutationvectors.bin\r\nResolving www.dropbox.com... 162.125.1.1\r\nConnecting to www.dropbox.com|162.125.1.1|:443... connected.\r\nHTTP request sent, awaiting response... "
     ]
    },
    {
     "name": "stdout",
     "output_type": "stream",
     "text": [
      "301 Moved Permanently\r\nLocation: /s/raw/r8r8ffw9rnjmmo0/permutationvectors.bin [following]\r\n--2019-07-01 15:47:08--  https://www.dropbox.com/s/raw/r8r8ffw9rnjmmo0/permutationvectors.bin\r\nReusing existing connection to www.dropbox.com:443.\r\nHTTP request sent, awaiting response... "
     ]
    },
    {
     "name": "stdout",
     "output_type": "stream",
     "text": [
      "302 Found\r\nLocation: https://ucc5991afb1da14e5c7f39989d76.dl.dropboxusercontent.com/cd/0/inline/Aj5zcxtEHEJDKoEuUpBmQQJVrI_HwUKagx3v8O99Wr4lPwI8lzyMsQRk-4sQWeMO7SWeR2zvraMwsUUsohbTuJteGXqF5cWds7phorghqh3p_w/file# [following]\r\n--2019-07-01 15:47:08--  https://ucc5991afb1da14e5c7f39989d76.dl.dropboxusercontent.com/cd/0/inline/Aj5zcxtEHEJDKoEuUpBmQQJVrI_HwUKagx3v8O99Wr4lPwI8lzyMsQRk-4sQWeMO7SWeR2zvraMwsUUsohbTuJteGXqF5cWds7phorghqh3p_w/file\r\nResolving ucc5991afb1da14e5c7f39989d76.dl.dropboxusercontent.com... 162.125.1.6\r\nConnecting to ucc5991afb1da14e5c7f39989d76.dl.dropboxusercontent.com|162.125.1.6|:443... connected.\r\nHTTP request sent, awaiting response... "
     ]
    },
    {
     "name": "stdout",
     "output_type": "stream",
     "text": [
      "302 FOUND\r\nLocation: /cd/0/inline2/Aj4N7pQjhGgQ5vHe_V1Q5sgNeURddIGnBDX2DSN0BJtmeUBvYYchszTSlEkKV_khaNZxFWIqayq_O-J6YAlm4vQXGVbBfYZS9_mQfjwLNkHcXyMV_e0LZciLVKjIbzD5kCXKA_kqUjOm1sVSJlrF-NM3AVMoRvFKvByByuTczyCYNlTvgWJf94IiwNP1u2shh4-Z0-Ak1xtMIQvye6zdtlAoKj25wrC8MyZVoZNv9Y1fMeJgGVJHSYIqrKsjjy51eqAbAhOuKSnMHnEwACzTetOVHZoOyEygC8gu6kuRlKSWp7RM7OMO8cb4wchMURDT1ft3188__wh0IAd0KZBRNQQD/file [following]\r\n--2019-07-01 15:47:08--  https://ucc5991afb1da14e5c7f39989d76.dl.dropboxusercontent.com/cd/0/inline2/Aj4N7pQjhGgQ5vHe_V1Q5sgNeURddIGnBDX2DSN0BJtmeUBvYYchszTSlEkKV_khaNZxFWIqayq_O-J6YAlm4vQXGVbBfYZS9_mQfjwLNkHcXyMV_e0LZciLVKjIbzD5kCXKA_kqUjOm1sVSJlrF-NM3AVMoRvFKvByByuTczyCYNlTvgWJf94IiwNP1u2shh4-Z0-Ak1xtMIQvye6zdtlAoKj25wrC8MyZVoZNv9Y1fMeJgGVJHSYIqrKsjjy51eqAbAhOuKSnMHnEwACzTetOVHZoOyEygC8gu6kuRlKSWp7RM7OMO8cb4wchMURDT1ft3188__wh0IAd0KZBRNQQD/file\r\nReusing existing connection to ucc5991afb1da14e5c7f39989d76.dl.dropboxusercontent.com:443.\r\nHTTP request sent, awaiting response... "
     ]
    },
    {
     "name": "stdout",
     "output_type": "stream",
     "text": [
      "200 OK\r\nLength: 24821 (24K) [application/octet-stream]\r\nSaving to: ‘permutationvectors.bin’\r\n\r\n\rpermutationvectors.   0%[                    ]       0  --.-KB/s               \rpermutationvectors. 100%[===================>]  24.24K  --.-KB/s    in 0.002s  \r\n\r\n2019-07-01 15:47:08 (9.71 MB/s) - ‘permutationvectors.bin’ saved [24821/24821]\r\n\r\n"
     ]
    },
    {
     "name": "stdout",
     "output_type": "stream",
     "text": [
      "--2019-07-01 15:47:08--  https://www.dropbox.com/s/nf28cvp1ocvyh1s/elementalvectors.bin\r\nResolving www.dropbox.com... 162.125.1.1\r\nConnecting to www.dropbox.com|162.125.1.1|:443... connected.\r\nHTTP request sent, awaiting response... "
     ]
    },
    {
     "name": "stdout",
     "output_type": "stream",
     "text": [
      "301 Moved Permanently\r\nLocation: /s/raw/nf28cvp1ocvyh1s/elementalvectors.bin [following]\r\n--2019-07-01 15:47:08--  https://www.dropbox.com/s/raw/nf28cvp1ocvyh1s/elementalvectors.bin\r\nReusing existing connection to www.dropbox.com:443.\r\nHTTP request sent, awaiting response... "
     ]
    },
    {
     "name": "stdout",
     "output_type": "stream",
     "text": [
      "302 Found\r\nLocation: https://uc56cd63226f3e383bd782fae7ef.dl.dropboxusercontent.com/cd/0/inline/Aj5s4DKSI_rCy4fN9dpkdSyC_gMA4uaxhhpNHfK9U7yW_KQVy-3Pk4YdXcRNjCFMJZwNW_W0TvrUmOSW3UF3DeriDLuWUgW895o6cvSZodTJ_Q/file# [following]\r\n--2019-07-01 15:47:09--  https://uc56cd63226f3e383bd782fae7ef.dl.dropboxusercontent.com/cd/0/inline/Aj5s4DKSI_rCy4fN9dpkdSyC_gMA4uaxhhpNHfK9U7yW_KQVy-3Pk4YdXcRNjCFMJZwNW_W0TvrUmOSW3UF3DeriDLuWUgW895o6cvSZodTJ_Q/file\r\nResolving uc56cd63226f3e383bd782fae7ef.dl.dropboxusercontent.com... 162.125.1.6\r\nConnecting to uc56cd63226f3e383bd782fae7ef.dl.dropboxusercontent.com|162.125.1.6|:443... connected.\r\n"
     ]
    },
    {
     "name": "stdout",
     "output_type": "stream",
     "text": [
      "HTTP request sent, awaiting response... "
     ]
    },
    {
     "name": "stdout",
     "output_type": "stream",
     "text": [
      "302 FOUND\r\nLocation: /cd/0/inline2/Aj7cvszasKh1DPIyaoNY0BKUXy-3ItWnjpZge6mfsTLyRXOtjuGVOvh5tTfpWMiIYHmgEdTdlzSf9Afiv7iJp8tPjuBGo1gDfzkVx7sgqNA0IlamMfyumC98oMM_jqFfZkopMCUkTQ8yLaZumwocUOh3yEAD0JVG2Wentd2a5f9LVt3wBzLs02qqH3XvdjuCRGLa0kyVFOmlvY5ozvx01HNNfzFyRzKIif88z1WcfIU06wbEn9y2DOFin-BtmCodOG5vLwIVqROgdIrTDi0KWspvbhxDg3BP58E446ngVpJGQXrVTzvq5SQCfKlHGQI1MtrtoPzdxBi2Txruhx09-KbQ/file [following]\r\n--2019-07-01 15:47:09--  https://uc56cd63226f3e383bd782fae7ef.dl.dropboxusercontent.com/cd/0/inline2/Aj7cvszasKh1DPIyaoNY0BKUXy-3ItWnjpZge6mfsTLyRXOtjuGVOvh5tTfpWMiIYHmgEdTdlzSf9Afiv7iJp8tPjuBGo1gDfzkVx7sgqNA0IlamMfyumC98oMM_jqFfZkopMCUkTQ8yLaZumwocUOh3yEAD0JVG2Wentd2a5f9LVt3wBzLs02qqH3XvdjuCRGLa0kyVFOmlvY5ozvx01HNNfzFyRzKIif88z1WcfIU06wbEn9y2DOFin-BtmCodOG5vLwIVqROgdIrTDi0KWspvbhxDg3BP58E446ngVpJGQXrVTzvq5SQCfKlHGQI1MtrtoPzdxBi2Txruhx09-KbQ/file\r\nReusing existing connection to uc56cd63226f3e383bd782fae7ef.dl.dropboxusercontent.com:443.\r\nHTTP request sent, awaiting response... "
     ]
    },
    {
     "name": "stdout",
     "output_type": "stream",
     "text": [
      "200 OK\r\nLength: 27530388 (26M) [application/octet-stream]\r\nSaving to: ‘elementalvectors.bin’\r\n\r\n\relementalvectors.bi   0%[                    ]       0  --.-KB/s               "
     ]
    },
    {
     "name": "stdout",
     "output_type": "stream",
     "text": [
      "\relementalvectors.bi   3%[                    ]   1.04M  4.52MB/s               "
     ]
    },
    {
     "name": "stdout",
     "output_type": "stream",
     "text": [
      "\relementalvectors.bi  13%[=>                  ]   3.54M  6.97MB/s               "
     ]
    },
    {
     "name": "stdout",
     "output_type": "stream",
     "text": [
      "\relementalvectors.bi  14%[=>                  ]   3.86M  7.08MB/s    in 0.5s    \r\n\r\n2019-07-01 15:47:10 (7.08 MB/s) - Read error at byte 4045918/27530388 (error:1408F119:SSL routines:SSL3_GET_RECORD:decryption failed or bad record mac). Retrying.\r\n\r\n"
     ]
    },
    {
     "name": "stdout",
     "output_type": "stream",
     "text": [
      "--2019-07-01 15:47:11--  (try: 2)  https://uc56cd63226f3e383bd782fae7ef.dl.dropboxusercontent.com/cd/0/inline2/Aj7cvszasKh1DPIyaoNY0BKUXy-3ItWnjpZge6mfsTLyRXOtjuGVOvh5tTfpWMiIYHmgEdTdlzSf9Afiv7iJp8tPjuBGo1gDfzkVx7sgqNA0IlamMfyumC98oMM_jqFfZkopMCUkTQ8yLaZumwocUOh3yEAD0JVG2Wentd2a5f9LVt3wBzLs02qqH3XvdjuCRGLa0kyVFOmlvY5ozvx01HNNfzFyRzKIif88z1WcfIU06wbEn9y2DOFin-BtmCodOG5vLwIVqROgdIrTDi0KWspvbhxDg3BP58E446ngVpJGQXrVTzvq5SQCfKlHGQI1MtrtoPzdxBi2Txruhx09-KbQ/file\r\nConnecting to uc56cd63226f3e383bd782fae7ef.dl.dropboxusercontent.com|162.125.1.6|:443... connected.\r\n"
     ]
    },
    {
     "name": "stdout",
     "output_type": "stream",
     "text": [
      "HTTP request sent, awaiting response... "
     ]
    },
    {
     "name": "stdout",
     "output_type": "stream",
     "text": [
      "206 PARTIAL CONTENT\r\nLength: 27530388 (26M), 23484470 (22M) remaining [application/octet-stream]\r\nSaving to: ‘elementalvectors.bin’\r\n\r\n\relementalvectors.bi  14%[++                  ]   3.86M  --.-KB/s               \relementalvectors.bi  17%[++>                 ]   4.56M  --.-KB/s    in 0.05s   \r\n\r\n"
     ]
    },
    {
     "name": "stdout",
     "output_type": "stream",
     "text": [
      "2019-07-01 15:47:12 (13.5 MB/s) - Read error at byte 4782236/27530388 (error:1408F119:SSL routines:SSL3_GET_RECORD:decryption failed or bad record mac). Retrying.\r\n\r\n"
     ]
    },
    {
     "name": "stdout",
     "output_type": "stream",
     "text": [
      "--2019-07-01 15:47:14--  (try: 3)  https://uc56cd63226f3e383bd782fae7ef.dl.dropboxusercontent.com/cd/0/inline2/Aj7cvszasKh1DPIyaoNY0BKUXy-3ItWnjpZge6mfsTLyRXOtjuGVOvh5tTfpWMiIYHmgEdTdlzSf9Afiv7iJp8tPjuBGo1gDfzkVx7sgqNA0IlamMfyumC98oMM_jqFfZkopMCUkTQ8yLaZumwocUOh3yEAD0JVG2Wentd2a5f9LVt3wBzLs02qqH3XvdjuCRGLa0kyVFOmlvY5ozvx01HNNfzFyRzKIif88z1WcfIU06wbEn9y2DOFin-BtmCodOG5vLwIVqROgdIrTDi0KWspvbhxDg3BP58E446ngVpJGQXrVTzvq5SQCfKlHGQI1MtrtoPzdxBi2Txruhx09-KbQ/file\r\nConnecting to uc56cd63226f3e383bd782fae7ef.dl.dropboxusercontent.com|162.125.1.6|:443... "
     ]
    },
    {
     "name": "stdout",
     "output_type": "stream",
     "text": [
      "connected.\r\nHTTP request sent, awaiting response... "
     ]
    },
    {
     "name": "stdout",
     "output_type": "stream",
     "text": [
      "206 PARTIAL CONTENT\r\nLength: 27530388 (26M), 22748152 (22M) remaining [application/octet-stream]\r\nSaving to: ‘elementalvectors.bin’\r\n\r\n\relementalvectors.bi  17%[+++                 ]   4.56M  --.-KB/s               "
     ]
    },
    {
     "name": "stdout",
     "output_type": "stream",
     "text": [
      "\relementalvectors.bi  49%[+++=====>           ]  12.98M  --.-KB/s    in 0.1s    \r\n\r\n2019-07-01 15:47:15 (63.8 MB/s) - Read error at byte 13612250/27530388 (error:1408F119:SSL routines:SSL3_GET_RECORD:decryption failed or bad record mac). Retrying.\r\n\r\n"
     ]
    },
    {
     "name": "stdout",
     "output_type": "stream",
     "text": [
      "--2019-07-01 15:47:18--  (try: 4)  https://uc56cd63226f3e383bd782fae7ef.dl.dropboxusercontent.com/cd/0/inline2/Aj7cvszasKh1DPIyaoNY0BKUXy-3ItWnjpZge6mfsTLyRXOtjuGVOvh5tTfpWMiIYHmgEdTdlzSf9Afiv7iJp8tPjuBGo1gDfzkVx7sgqNA0IlamMfyumC98oMM_jqFfZkopMCUkTQ8yLaZumwocUOh3yEAD0JVG2Wentd2a5f9LVt3wBzLs02qqH3XvdjuCRGLa0kyVFOmlvY5ozvx01HNNfzFyRzKIif88z1WcfIU06wbEn9y2DOFin-BtmCodOG5vLwIVqROgdIrTDi0KWspvbhxDg3BP58E446ngVpJGQXrVTzvq5SQCfKlHGQI1MtrtoPzdxBi2Txruhx09-KbQ/file\r\nConnecting to uc56cd63226f3e383bd782fae7ef.dl.dropboxusercontent.com|162.125.1.6|:443... connected.\r\nHTTP request sent, awaiting response... "
     ]
    },
    {
     "name": "stdout",
     "output_type": "stream",
     "text": [
      "206 PARTIAL CONTENT\r\nLength: 27530388 (26M), 13918138 (13M) remaining [application/octet-stream]\r\nSaving to: ‘elementalvectors.bin’\r\n\r\n\relementalvectors.bi  49%[+++++++++           ]  12.98M  --.-KB/s               "
     ]
    },
    {
     "name": "stdout",
     "output_type": "stream",
     "text": [
      "\relementalvectors.bi  52%[+++++++++>          ]  13.66M  2.69MB/s               "
     ]
    },
    {
     "name": "stdout",
     "output_type": "stream",
     "text": [
      "\relementalvectors.bi  57%[+++++++++=>         ]  15.04M  4.39MB/s               \relementalvectors.bi  57%[+++++++++=>         ]  15.04M  4.40MB/s    in 0.5s    \r\n\r\n2019-07-01 15:47:19 (4.40 MB/s) - Read error at byte 15773975/27530388 (error:1408F119:SSL routines:SSL3_GET_RECORD:decryption failed or bad record mac). Retrying.\r\n\r\n"
     ]
    },
    {
     "name": "stdout",
     "output_type": "stream",
     "text": [
      "--2019-07-01 15:47:23--  (try: 5)  https://uc56cd63226f3e383bd782fae7ef.dl.dropboxusercontent.com/cd/0/inline2/Aj7cvszasKh1DPIyaoNY0BKUXy-3ItWnjpZge6mfsTLyRXOtjuGVOvh5tTfpWMiIYHmgEdTdlzSf9Afiv7iJp8tPjuBGo1gDfzkVx7sgqNA0IlamMfyumC98oMM_jqFfZkopMCUkTQ8yLaZumwocUOh3yEAD0JVG2Wentd2a5f9LVt3wBzLs02qqH3XvdjuCRGLa0kyVFOmlvY5ozvx01HNNfzFyRzKIif88z1WcfIU06wbEn9y2DOFin-BtmCodOG5vLwIVqROgdIrTDi0KWspvbhxDg3BP58E446ngVpJGQXrVTzvq5SQCfKlHGQI1MtrtoPzdxBi2Txruhx09-KbQ/file\r\nConnecting to uc56cd63226f3e383bd782fae7ef.dl.dropboxusercontent.com|162.125.1.6|:443... connected.\r\nHTTP request sent, awaiting response... "
     ]
    },
    {
     "name": "stdout",
     "output_type": "stream",
     "text": [
      "206 PARTIAL CONTENT\r\nLength: 27530388 (26M), 11756413 (11M) remaining [application/octet-stream]\r\nSaving to: ‘elementalvectors.bin’\r\n\r\n\relementalvectors.bi  57%[+++++++++++         ]  15.04M  --.-KB/s               "
     ]
    },
    {
     "name": "stdout",
     "output_type": "stream",
     "text": [
      "\relementalvectors.bi  59%[+++++++++++         ]  15.58M  1.53MB/s               "
     ]
    },
    {
     "name": "stdout",
     "output_type": "stream",
     "text": [
      "\relementalvectors.bi  66%[+++++++++++=>       ]  17.59M  4.82MB/s    in 0.5s    \r\n\r\n2019-07-01 15:47:24 (4.82 MB/s) - Read error at byte 18443604/27530388 (error:1408F119:SSL routines:SSL3_GET_RECORD:decryption failed or bad record mac). Retrying.\r\n\r\n"
     ]
    },
    {
     "name": "stdout",
     "output_type": "stream",
     "text": [
      "--2019-07-01 15:47:29--  (try: 6)  https://uc56cd63226f3e383bd782fae7ef.dl.dropboxusercontent.com/cd/0/inline2/Aj7cvszasKh1DPIyaoNY0BKUXy-3ItWnjpZge6mfsTLyRXOtjuGVOvh5tTfpWMiIYHmgEdTdlzSf9Afiv7iJp8tPjuBGo1gDfzkVx7sgqNA0IlamMfyumC98oMM_jqFfZkopMCUkTQ8yLaZumwocUOh3yEAD0JVG2Wentd2a5f9LVt3wBzLs02qqH3XvdjuCRGLa0kyVFOmlvY5ozvx01HNNfzFyRzKIif88z1WcfIU06wbEn9y2DOFin-BtmCodOG5vLwIVqROgdIrTDi0KWspvbhxDg3BP58E446ngVpJGQXrVTzvq5SQCfKlHGQI1MtrtoPzdxBi2Txruhx09-KbQ/file\r\nConnecting to uc56cd63226f3e383bd782fae7ef.dl.dropboxusercontent.com|162.125.1.6|:443... connected.\r\nHTTP request sent, awaiting response... "
     ]
    },
    {
     "name": "stdout",
     "output_type": "stream",
     "text": [
      "206 PARTIAL CONTENT\r\nLength: 27530388 (26M), 9086784 (8.7M) remaining [application/octet-stream]\r\nSaving to: ‘elementalvectors.bin’\r\n\r\n\relementalvectors.bi  66%[+++++++++++++       ]  17.59M  --.-KB/s               "
     ]
    },
    {
     "name": "stdout",
     "output_type": "stream",
     "text": [
      "\relementalvectors.bi  98%[+++++++++++++=====> ]  25.78M  --.-KB/s    in 0.1s    \r\n\r\n2019-07-01 15:47:30 (64.6 MB/s) - Read error at byte 27027858/27530388 (error:1408F119:SSL routines:SSL3_GET_RECORD:decryption failed or bad record mac). Retrying.\r\n\r\n"
     ]
    },
    {
     "name": "stdout",
     "output_type": "stream",
     "text": [
      "--2019-07-01 15:47:36--  (try: 7)  https://uc56cd63226f3e383bd782fae7ef.dl.dropboxusercontent.com/cd/0/inline2/Aj7cvszasKh1DPIyaoNY0BKUXy-3ItWnjpZge6mfsTLyRXOtjuGVOvh5tTfpWMiIYHmgEdTdlzSf9Afiv7iJp8tPjuBGo1gDfzkVx7sgqNA0IlamMfyumC98oMM_jqFfZkopMCUkTQ8yLaZumwocUOh3yEAD0JVG2Wentd2a5f9LVt3wBzLs02qqH3XvdjuCRGLa0kyVFOmlvY5ozvx01HNNfzFyRzKIif88z1WcfIU06wbEn9y2DOFin-BtmCodOG5vLwIVqROgdIrTDi0KWspvbhxDg3BP58E446ngVpJGQXrVTzvq5SQCfKlHGQI1MtrtoPzdxBi2Txruhx09-KbQ/file\r\nConnecting to uc56cd63226f3e383bd782fae7ef.dl.dropboxusercontent.com|162.125.1.6|:443... connected.\r\nHTTP request sent, awaiting response... "
     ]
    },
    {
     "name": "stdout",
     "output_type": "stream",
     "text": [
      "206 PARTIAL CONTENT\r\nLength: 27530388 (26M), 502530 (491K) remaining [application/octet-stream]\r\nSaving to: ‘elementalvectors.bin’\r\n\r\n\relementalvectors.bi  98%[+++++++++++++++++++ ]  25.78M  --.-KB/s               "
     ]
    },
    {
     "name": "stdout",
     "output_type": "stream",
     "text": [
      "\relementalvectors.bi 100%[+++++++++++++++++++>]  26.25M  --.-KB/s    in 0.07s   \r\n\r\n2019-07-01 15:47:36 (6.47 MB/s) - ‘elementalvectors.bin’ saved [27530388/27530388]\r\n\r\n"
     ]
    }
   ],
   "source": [
    "#run once - small sets of vectors for development (low-D, high minimum frequency threshold so relatively few concepts)\n",
    "!wget https://www.dropbox.com/s/3f5qg9nfop2l45e/semanticvectors.bin\n",
    "!wget https://www.dropbox.com/s/r8r8ffw9rnjmmo0/permutationvectors.bin\n",
    "!wget https://www.dropbox.com/s/nf28cvp1ocvyh1s/elementalvectors.bin"
   ]
  },
  {
   "cell_type": "code",
   "execution_count": 11,
   "metadata": {},
   "outputs": [],
   "source": [
    "import copy\n",
    "import permutations.constants as c\n",
    "import permutations.sparse_permutations as sp\n",
    "import permutations.semvec_utils as sv"
   ]
  },
  {
   "cell_type": "code",
   "execution_count": 12,
   "metadata": {},
   "outputs": [
    {
     "name": "stdout",
     "output_type": "stream",
     "text": [
      "31\n100   REAL\n"
     ]
    },
    {
     "name": "stdout",
     "output_type": "stream",
     "text": [
      "y 156\n((3z)-n-(3-chlorophenyl)-3-((3,5-dimethyl-4-((4-methylpiperazin-1-yl)carbonyl)-1h-pyrrol-2-yl)methylene)-n-methyl-2-oxo-2,3-dihydro-1h-indole-5-sulfonamide)\nskipped 0\n"
     ]
    },
    {
     "name": "stdout",
     "output_type": "stream",
     "text": [
      "31\n100   REAL\n"
     ]
    },
    {
     "name": "stdout",
     "output_type": "stream",
     "text": [
      "y 156\n((3z)-n-(3-chlorophenyl)-3-((3,5-dimethyl-4-((4-methylpiperazin-1-yl)carbonyl)-1h-pyrrol-2-yl)methylene)-n-methyl-2-oxo-2,3-dihydro-1h-indole-5-sulfonamide)\nskipped 0\n"
     ]
    },
    {
     "name": "stdout",
     "output_type": "stream",
     "text": [
      "38\n100   PERMUTATION\nskipped 0\n"
     ]
    }
   ],
   "source": [
    "#run once \n",
    "semanticvectors = sv.readfile('semanticvectors.bin')\n",
    "elementalvectors = sv.readfile('elementalvectors.bin')\n",
    "permutation_cache = sv.readfile('permutationvectors.bin')\n"
   ]
  },
  {
   "cell_type": "code",
   "execution_count": 22,
   "metadata": {},
   "outputs": [
    {
     "name": "stdout",
     "output_type": "stream",
     "text": [
      "['docetaxel', 'gemcitabine', 'etoposide', 'paclitaxel', 'carboplatin', 'erlotinib', 'gefitinib', 'capecitabine', 'cetuximab', 'fluorouracil']\n['docetaxel', 'gemcitabine', 'etoposide', 'paclitaxel', 'carboplatin', 'erlotinib', 'gefitinib', 'capecitabine', 'cetuximab', 'fluorouracil']\n"
     ]
    }
   ],
   "source": [
    "#nearest neighbor by term or by vector\n",
    "print(sv.get_k_vec_neighbors(semanticvectors,'docetaxel',10))\n",
    "print(sv.get_k_neighbors(semanticvectors,sv.getvector(semanticvectors,'docetaxel'),10))"
   ]
  },
  {
   "cell_type": "code",
   "execution_count": 23,
   "metadata": {},
   "outputs": [
    {
     "name": "stdout",
     "output_type": "stream",
     "text": [
      "['dopamine_antagonists', 'antidepressive_agents', 'monoamine_oxidase_inhibitors', 'serotonin_uptake_inhibitors', 'reuptake_inhibitors', 'antipsychotic_agents', 'selective_serotonin_re-uptake_inhibitor', 'antidepressive_agents,_tricyclic', 'atypical_antipsychotic', 'serotonin_agents']\n"
     ]
    }
   ],
   "source": [
    "#single predicate search\n",
    "semvec=copy.copy(sv.getvector(semanticvectors,'prozac'))\n",
    "permvec=sp.permute_vector(sv.getvector(permutation_cache,'_ISA'),semvec)\n",
    "results=sv.get_k_neighbors(elementalvectors, permvec, 10)\n",
    "print(results)"
   ]
  },
  {
   "cell_type": "code",
   "execution_count": 21,
   "metadata": {},
   "outputs": [
    {
     "name": "stdout",
     "output_type": "stream",
     "text": [
      "['plants', 'obsessive-compulsive_disorder', 'phobia,_social', 'depression,_bipolar', 'schizoaffective_disorder', 'sleeplessness', 'relationships', 'cattle', 'chronic_schizophrenia', 'country']\n"
     ]
    }
   ],
   "source": [
    "#double predicate search - not sure why plants and cattle show up, but the others make sense\n",
    "semvec=copy.copy(sv.getvector(semanticvectors,'prozac'))\n",
    "permvec=sp.permute_vector(sv.getvector(permutation_cache,'_ISA'),semvec)\n",
    "permvec=sp.permute_vector(sv.getvector(permutation_cache,'TREATS-INV'),permvec)\n",
    "results=sv.get_k_neighbors(semanticvectors, permvec, 10)\n",
    "print(results)"
   ]
  },
  {
   "cell_type": "code",
   "execution_count": null,
   "metadata": {},
   "outputs": [],
   "source": []
  }
 ],
 "metadata": {
  "kernelspec": {
   "display_name": "Python 2",
   "language": "python",
   "name": "python2"
  },
  "language_info": {
   "codemirror_mode": {
    "name": "ipython",
    "version": 3
   },
   "file_extension": ".py",
   "mimetype": "text/x-python",
   "name": "python",
   "nbconvert_exporter": "python",
   "pygments_lexer": "ipython3",
   "version": "3.7.1"
  }
 },
 "nbformat": 4,
 "nbformat_minor": 1
}
