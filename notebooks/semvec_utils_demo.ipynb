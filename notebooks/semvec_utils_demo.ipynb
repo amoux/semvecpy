{
 "cells": [
  {
   "cell_type": "code",
   "execution_count": null,
   "metadata": {},
   "outputs": [],
   "source": [
    "#run once - small sets of vectors for development (low-D, high minimum frequency threshold so relatively few concepts)\n",
    "!wget https://www.dropbox.com/s/3f5qg9nfop2l45e/semanticvectors.bin\n",
    "!wget https://www.dropbox.com/s/r8r8ffw9rnjmmo0/permutationvectors.bin\n",
    "!wget https://www.dropbox.com/s/nf28cvp1ocvyh1s/elementalvectors.bin"
   ]
  },
  {
   "cell_type": "code",
   "execution_count": 1,
   "metadata": {
    "ExecuteTime": {
     "end_time": "2019-07-19T17:38:20.139408Z",
     "start_time": "2019-07-19T17:38:19.639403Z"
    }
   },
   "outputs": [],
   "source": [
    "import copy\n",
    "import sys\n",
    "sys.path.insert(0, '../')\n",
    "import permutations.constants as c\n",
    "import permutations.sparse_permutations as sp\n",
    "import permutations.semvec_utils as sv"
   ]
  },
  {
   "cell_type": "code",
   "execution_count": 4,
   "metadata": {
    "ExecuteTime": {
     "end_time": "2019-07-19T17:38:53.328322Z",
     "start_time": "2019-07-19T17:38:52.262622Z"
    }
   },
   "outputs": [
    {
     "name": "stdout",
     "output_type": "stream",
     "text": [
      "100   REAL\n",
      "100   REAL\n",
      "100   PERMUTATION\n"
     ]
    }
   ],
   "source": [
    "#run once \n",
    "semanticvectors = sv.readfile('semanticvectors.bin')\n",
    "elementalvectors = sv.readfile('elementalvectors.bin')\n",
    "permutation_cache = sv.readfile('permutationvectors.bin')\n"
   ]
  },
  {
   "cell_type": "code",
   "execution_count": 5,
   "metadata": {
    "ExecuteTime": {
     "end_time": "2019-07-19T17:38:58.980455Z",
     "start_time": "2019-07-19T17:38:58.406733Z"
    }
   },
   "outputs": [
    {
     "name": "stdout",
     "output_type": "stream",
     "text": [
      "['docetaxel', 'gemcitabine', 'etoposide', 'paclitaxel', 'carboplatin', 'erlotinib', 'gefitinib', 'capecitabine', 'cetuximab', 'fluorouracil']\n",
      "['docetaxel', 'gemcitabine', 'etoposide', 'paclitaxel', 'carboplatin', 'erlotinib', 'gefitinib', 'capecitabine', 'cetuximab', 'fluorouracil']\n"
     ]
    }
   ],
   "source": [
    "#nearest neighbor by term or by vector\n",
    "print(sv.get_k_vec_neighbors(semanticvectors,'docetaxel',10))\n",
    "print(sv.get_k_neighbors(semanticvectors,sv.getvector(semanticvectors,'docetaxel'),10))"
   ]
  },
  {
   "cell_type": "code",
   "execution_count": 6,
   "metadata": {
    "ExecuteTime": {
     "end_time": "2019-07-19T17:39:03.194429Z",
     "start_time": "2019-07-19T17:39:02.932789Z"
    }
   },
   "outputs": [
    {
     "name": "stdout",
     "output_type": "stream",
     "text": [
      "['dopamine_antagonists', 'antidepressive_agents', 'monoamine_oxidase_inhibitors', 'serotonin_uptake_inhibitors', 'reuptake_inhibitors', 'antipsychotic_agents', 'selective_serotonin_re-uptake_inhibitor', 'antidepressive_agents,_tricyclic', 'atypical_antipsychotic', 'serotonin_agents']\n"
     ]
    }
   ],
   "source": [
    "#single predicate search\n",
    "semvec=copy.copy(sv.getvector(semanticvectors,'prozac'))\n",
    "permvec=sp.permute_vector(sv.getvector(permutation_cache,'_ISA'),semvec)\n",
    "results=sv.get_k_neighbors(elementalvectors, permvec, 10)\n",
    "print(results)"
   ]
  },
  {
   "cell_type": "code",
   "execution_count": 7,
   "metadata": {
    "ExecuteTime": {
     "end_time": "2019-07-19T17:39:04.460828Z",
     "start_time": "2019-07-19T17:39:04.191693Z"
    }
   },
   "outputs": [
    {
     "name": "stdout",
     "output_type": "stream",
     "text": [
      "['plants', 'obsessive-compulsive_disorder', 'phobia,_social', 'depression,_bipolar', 'schizoaffective_disorder', 'sleeplessness', 'relationships', 'cattle', 'chronic_schizophrenia', 'country']\n"
     ]
    }
   ],
   "source": [
    "#double predicate search - not sure why plants and cattle show up, but the others make sense\n",
    "semvec=copy.copy(sv.getvector(semanticvectors,'prozac'))\n",
    "permvec=sp.permute_vector(sv.getvector(permutation_cache,'_ISA'),semvec)\n",
    "permvec=sp.permute_vector(sv.getvector(permutation_cache,'TREATS-INV'),permvec)\n",
    "results=sv.get_k_neighbors(semanticvectors, permvec, 10)\n",
    "print(results)"
   ]
  },
  {
   "cell_type": "code",
   "execution_count": null,
   "metadata": {},
   "outputs": [],
   "source": [
    "#run once\n",
    "!wget https://www.dropbox.com/s/53x384ca2ehhcnd/semanticvectors_1024.bin"
   ]
  },
  {
   "cell_type": "code",
   "execution_count": 8,
   "metadata": {
    "ExecuteTime": {
     "end_time": "2019-07-19T17:39:09.900269Z",
     "start_time": "2019-07-19T17:39:09.348864Z"
    }
   },
   "outputs": [
    {
     "name": "stdout",
     "output_type": "stream",
     "text": [
      "1024   BINARY\n"
     ]
    }
   ],
   "source": [
    "vecs=sv.readfile('semanticvectors_1024.bin')\n"
   ]
  },
  {
   "cell_type": "code",
   "execution_count": 12,
   "metadata": {
    "ExecuteTime": {
     "end_time": "2019-07-19T17:40:51.934347Z",
     "start_time": "2019-07-19T17:40:51.920162Z"
    }
   },
   "outputs": [
    {
     "data": {
      "text/plain": [
       "array([239,  36, 110, 165,  62, 252,  18,  90, 122,  86,   6,  25,  69,\n",
       "       200, 197,  81,  37, 193, 249,  67, 222, 192, 210, 251,  61,  61,\n",
       "       151, 183,  23, 237, 127, 103, 253, 125,  14, 209,  28, 116,  95,\n",
       "       240,  32,  69,  43, 211, 250, 206, 132, 111, 228,  92,  83, 115,\n",
       "       214, 231, 167, 162, 244, 192, 159, 225,  98,  22, 241, 119, 238,\n",
       "         4, 127, 221,  61, 220, 223, 202, 121,  81, 229, 235,  58,  24,\n",
       "       186,  68, 228, 179, 129, 123, 237, 129, 117, 238, 131, 238,  44,\n",
       "        79, 172,  33, 240, 197,  54, 171, 174, 111,  93,  55, 151, 243,\n",
       "        27,  69,  36,  28, 212, 235, 218,  77,  48, 210, 212, 248, 156,\n",
       "       166,  91, 100,  13, 245,  39, 214, 255,  76, 204,  55], dtype=uint8)"
      ]
     },
     "execution_count": 12,
     "metadata": {},
     "output_type": "execute_result"
    }
   ],
   "source": [
    "sv.getvector(vecs,'docetaxel')"
   ]
  },
  {
   "cell_type": "code",
   "execution_count": 9,
   "metadata": {
    "ExecuteTime": {
     "end_time": "2019-07-19T17:39:27.870800Z",
     "start_time": "2019-07-19T17:39:27.853720Z"
    }
   },
   "outputs": [
    {
     "ename": "TypeError",
     "evalue": "unsupported operand type(s) for ^=: 'list' and 'list'",
     "output_type": "error",
     "traceback": [
      "\u001b[0;31m---------------------------------------------------------------------------\u001b[0m",
      "\u001b[0;31mTypeError\u001b[0m                                 Traceback (most recent call last)",
      "\u001b[0;32m<ipython-input-9-212914fcbf4d>\u001b[0m in \u001b[0;36m<module>\u001b[0;34m()\u001b[0m\n\u001b[1;32m      7\u001b[0m     \u001b[0mys\u001b[0m\u001b[0;34m.\u001b[0m\u001b[0mappend\u001b[0m\u001b[0;34m(\u001b[0m\u001b[0my\u001b[0m\u001b[0;34m)\u001b[0m\u001b[0;34m\u001b[0m\u001b[0;34m\u001b[0m\u001b[0m\n\u001b[1;32m      8\u001b[0m \u001b[0;34m\u001b[0m\u001b[0m\n\u001b[0;32m----> 9\u001b[0;31m \u001b[0mxs\u001b[0m \u001b[0;34m^=\u001b[0m \u001b[0mys\u001b[0m\u001b[0;34m\u001b[0m\u001b[0;34m\u001b[0m\u001b[0m\n\u001b[0m",
      "\u001b[0;31mTypeError\u001b[0m: unsupported operand type(s) for ^=: 'list' and 'list'"
     ]
    }
   ],
   "source": [
    "x=copy.copy(sv.getvector(vecs,'docetaxel'))\n",
    "y=copy.copy(sv.getvector(vecs,'prozac'))\n",
    "xs=[]\n",
    "ys=[]\n",
    "for i in range(10):\n",
    "    xs.append(x)\n",
    "    ys.append(y)\n",
    "\n",
    "xs ^= ys"
   ]
  },
  {
   "cell_type": "code",
   "execution_count": 7,
   "metadata": {
    "ExecuteTime": {
     "end_time": "2019-07-15T23:53:46.990751Z",
     "start_time": "2019-07-15T23:53:46.964208Z"
    }
   },
   "outputs": [],
   "source": [
    "import numpy as np\n",
    "def get_k_bvec_neighbors(bwordvectors, query_term, k):\n",
    "    \"\"\"Returns the nearest neighboring terms (binary vector reps) to query_term - a term\"\"\"\n",
    "    if query_term in bwordvectors[0]:\n",
    "        query_index = bwordvectors[0].index(query_term)\n",
    "        query_vec = bwordvectors[1][query_index]\n",
    "        return get_k_b_neighbors(bwordvectors, query_vec, k)\n",
    "    else:\n",
    "        return None\n",
    "\n",
    "\n",
    "def get_k_b_neighbors(bwordvectors, query_vec, k):\n",
    "    \"\"\"Returns the nearest neighboring to terms to query_vec - a binary vector.\"\"\"\n",
    "    sims = []\n",
    "    for vector in bwordvectors[1]:\n",
    "        vec2 = copy.copy(vector)\n",
    "        vec2 ^= query_vec\n",
    "        sims.append(-vec2.bin.count(\"1\"))\n",
    "    indices = np.argpartition(sims, -k)[-k:]\n",
    "    indices = sorted(indices, key=lambda i: sims[i], reverse=True)\n",
    "    labels = []\n",
    "    for index in indices:\n",
    "        labels.append(bwordvectors[0][index])\n",
    "    return labels"
   ]
  },
  {
   "cell_type": "code",
   "execution_count": 8,
   "metadata": {
    "ExecuteTime": {
     "end_time": "2019-07-15T23:53:50.094459Z",
     "start_time": "2019-07-15T23:53:47.810933Z"
    }
   },
   "outputs": [
    {
     "name": "stdout",
     "output_type": "stream",
     "text": [
      "['paclitaxel', 'methyl_oleate', 'topical_hemostatic_agent', 'adenovirus_vector', 'mcc_protocol', 'cisplatin/vinblastine_protocol', 'radiotherapy,_interstitial', 'zona_drilling', 'reproductive_technology,_assisted', 'iron_ion_homeostasis']\n"
     ]
    }
   ],
   "source": [
    "print(sv.get_k_bvec_neighbors(vecs,'paclitaxel',10))"
   ]
  },
  {
   "cell_type": "code",
   "execution_count": 9,
   "metadata": {
    "ExecuteTime": {
     "end_time": "2019-07-15T23:53:54.889342Z",
     "start_time": "2019-07-15T23:53:53.236886Z"
    }
   },
   "outputs": [
    {
     "name": "stdout",
     "output_type": "stream",
     "text": [
      "['paclitaxel', 'methyl_oleate', 'topical_hemostatic_agent', 'adenovirus_vector', 'mcc_protocol', 'cisplatin/vinblastine_protocol', 'radiotherapy,_interstitial', 'zona_drilling', 'reproductive_technology,_assisted', 'iron_ion_homeostasis']\n"
     ]
    }
   ],
   "source": [
    "print(get_k_bvec_neighbors(vecs,'paclitaxel',10))"
   ]
  },
  {
   "cell_type": "code",
   "execution_count": null,
   "metadata": {},
   "outputs": [],
   "source": [
    "!conda list"
   ]
  },
  {
   "cell_type": "code",
   "execution_count": null,
   "metadata": {},
   "outputs": [],
   "source": []
  }
 ],
 "metadata": {
  "kernelspec": {
   "display_name": "Python 2",
   "language": "python",
   "name": "python2"
  },
  "language_info": {
   "codemirror_mode": {
    "name": "ipython",
    "version": 3
   },
   "file_extension": ".py",
   "mimetype": "text/x-python",
   "name": "python",
   "nbconvert_exporter": "python",
   "pygments_lexer": "ipython3",
   "version": "3.6.7"
  }
 },
 "nbformat": 4,
 "nbformat_minor": 1
}
