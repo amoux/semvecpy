{
 "cells": [
  {
   "cell_type": "code",
   "execution_count": 14,
   "metadata": {},
   "outputs": [
    {
     "name": "stdout",
     "output_type": "stream",
     "text": [
      "--2019-07-01 15:47:01--  https://www.dropbox.com/s/3f5qg9nfop2l45e/semanticvectors.bin\r\nResolving www.dropbox.com... 162.125.1.1\r\nConnecting to www.dropbox.com|162.125.1.1|:443... connected.\r\n"
     ]
    },
    {
     "name": "stdout",
     "output_type": "stream",
     "text": [
      "HTTP request sent, awaiting response... "
     ]
    },
    {
     "name": "stdout",
     "output_type": "stream",
     "text": [
      "301 Moved Permanently\r\nLocation: /s/raw/3f5qg9nfop2l45e/semanticvectors.bin [following]\r\n--2019-07-01 15:47:01--  https://www.dropbox.com/s/raw/3f5qg9nfop2l45e/semanticvectors.bin\r\nReusing existing connection to www.dropbox.com:443.\r\nHTTP request sent, awaiting response... "
     ]
    },
    {
     "name": "stdout",
     "output_type": "stream",
     "text": [
      "302 Found\r\nLocation: https://uc6c457017824c32dbc8f954f691.dl.dropboxusercontent.com/cd/0/inline/Aj6GLa_9QVcZGTGQRv2xhLJ4Y8cIoTgjoTlISVwJmWQi-G3j2-VQaYiTlW1hDzcdMvx1N0ICIqu66QOf2Sqt8YpLC4wWUmDJ5MMn3zLnh9wqsw/file# [following]\r\n--2019-07-01 15:47:01--  https://uc6c457017824c32dbc8f954f691.dl.dropboxusercontent.com/cd/0/inline/Aj6GLa_9QVcZGTGQRv2xhLJ4Y8cIoTgjoTlISVwJmWQi-G3j2-VQaYiTlW1hDzcdMvx1N0ICIqu66QOf2Sqt8YpLC4wWUmDJ5MMn3zLnh9wqsw/file\r\nResolving uc6c457017824c32dbc8f954f691.dl.dropboxusercontent.com... 162.125.1.6\r\nConnecting to uc6c457017824c32dbc8f954f691.dl.dropboxusercontent.com|162.125.1.6|:443... connected.\r\nHTTP request sent, awaiting response... "
     ]
    },
    {
     "name": "stdout",
     "output_type": "stream",
     "text": [
      "302 FOUND\r\nLocation: /cd/0/inline2/Aj7pmKkc0QtxfGOvnWz3ilqbwTyvKD0tDsDcosd4KU_hDYJ0ngriPQq6ggl1wkvl8aFtr513_soztqSvr0jAKuJTvCx-C_1ekvOi_p_G3_WJbH15VdqtLcUbjywM9WvVGy_Yvio4vrJkJcGQXUM6vu2WZ3X_98MpFi7GSPJO70IfgZVkyq6hnikUBaWTJcMBHaA4YepeDSXNHn7U8hMKdH55bwmpwaEUXCQj16kpDl9r3hYk1mc52GP9KJGmMknWZ6PeAf2_T24vZE-NIqIR-0LkCt6GqAXe5xi9KGK1ok3FQ0GoUuUnJLVym75J8KBtrovoxaQNi_xhX1S6VW7r0L8g/file [following]\r\n--2019-07-01 15:47:02--  https://uc6c457017824c32dbc8f954f691.dl.dropboxusercontent.com/cd/0/inline2/Aj7pmKkc0QtxfGOvnWz3ilqbwTyvKD0tDsDcosd4KU_hDYJ0ngriPQq6ggl1wkvl8aFtr513_soztqSvr0jAKuJTvCx-C_1ekvOi_p_G3_WJbH15VdqtLcUbjywM9WvVGy_Yvio4vrJkJcGQXUM6vu2WZ3X_98MpFi7GSPJO70IfgZVkyq6hnikUBaWTJcMBHaA4YepeDSXNHn7U8hMKdH55bwmpwaEUXCQj16kpDl9r3hYk1mc52GP9KJGmMknWZ6PeAf2_T24vZE-NIqIR-0LkCt6GqAXe5xi9KGK1ok3FQ0GoUuUnJLVym75J8KBtrovoxaQNi_xhX1S6VW7r0L8g/file\r\nReusing existing connection to uc6c457017824c32dbc8f954f691.dl.dropboxusercontent.com:443.\r\nHTTP request sent, awaiting response... "
     ]
    },
    {
     "name": "stdout",
     "output_type": "stream",
     "text": [
      "200 OK\r\nLength: 27530388 (26M) [application/octet-stream]\r\nSaving to: ‘semanticvectors.bin’\r\n\r\n\rsemanticvectors.bin   0%[                    ]       0  --.-KB/s               "
     ]
    },
    {
     "name": "stdout",
     "output_type": "stream",
     "text": [
      "\rsemanticvectors.bin   0%[                    ]  47.09K  --.-KB/s    in 0.05s   \r\n\r\n2019-07-01 15:47:02 (947 KB/s) - Read error at byte 48224/27530388 (error:1408F119:SSL routines:SSL3_GET_RECORD:decryption failed or bad record mac). Retrying.\r\n\r\n"
     ]
    },
    {
     "name": "stdout",
     "output_type": "stream",
     "text": [
      "--2019-07-01 15:47:03--  (try: 2)  https://uc6c457017824c32dbc8f954f691.dl.dropboxusercontent.com/cd/0/inline2/Aj7pmKkc0QtxfGOvnWz3ilqbwTyvKD0tDsDcosd4KU_hDYJ0ngriPQq6ggl1wkvl8aFtr513_soztqSvr0jAKuJTvCx-C_1ekvOi_p_G3_WJbH15VdqtLcUbjywM9WvVGy_Yvio4vrJkJcGQXUM6vu2WZ3X_98MpFi7GSPJO70IfgZVkyq6hnikUBaWTJcMBHaA4YepeDSXNHn7U8hMKdH55bwmpwaEUXCQj16kpDl9r3hYk1mc52GP9KJGmMknWZ6PeAf2_T24vZE-NIqIR-0LkCt6GqAXe5xi9KGK1ok3FQ0GoUuUnJLVym75J8KBtrovoxaQNi_xhX1S6VW7r0L8g/file\r\nConnecting to uc6c457017824c32dbc8f954f691.dl.dropboxusercontent.com|162.125.1.6|:443... connected.\r\nHTTP request sent, awaiting response... "
     ]
    },
    {
     "name": "stdout",
     "output_type": "stream",
     "text": [
      "206 PARTIAL CONTENT\r\nLength: 27530388 (26M), 27482164 (26M) remaining [application/octet-stream]\r\nSaving to: ‘semanticvectors.bin’\r\n\r\n\rsemanticvectors.bin   0%[                    ]  47.09K  --.-KB/s               "
     ]
    },
    {
     "name": "stdout",
     "output_type": "stream",
     "text": [
      "\rsemanticvectors.bin   8%[>                   ]   2.22M  12.2MB/s    in 0.2s    \r\n\r\n2019-07-01 15:47:04 (12.2 MB/s) - Read error at byte 2324642/27530388 (error:1408F119:SSL routines:SSL3_GET_RECORD:decryption failed or bad record mac). Retrying.\r\n\r\n"
     ]
    },
    {
     "name": "stdout",
     "output_type": "stream",
     "text": [
      "--2019-07-01 15:47:06--  (try: 3)  https://uc6c457017824c32dbc8f954f691.dl.dropboxusercontent.com/cd/0/inline2/Aj7pmKkc0QtxfGOvnWz3ilqbwTyvKD0tDsDcosd4KU_hDYJ0ngriPQq6ggl1wkvl8aFtr513_soztqSvr0jAKuJTvCx-C_1ekvOi_p_G3_WJbH15VdqtLcUbjywM9WvVGy_Yvio4vrJkJcGQXUM6vu2WZ3X_98MpFi7GSPJO70IfgZVkyq6hnikUBaWTJcMBHaA4YepeDSXNHn7U8hMKdH55bwmpwaEUXCQj16kpDl9r3hYk1mc52GP9KJGmMknWZ6PeAf2_T24vZE-NIqIR-0LkCt6GqAXe5xi9KGK1ok3FQ0GoUuUnJLVym75J8KBtrovoxaQNi_xhX1S6VW7r0L8g/file\r\nConnecting to uc6c457017824c32dbc8f954f691.dl.dropboxusercontent.com|162.125.1.6|:443... connected.\r\nHTTP request sent, awaiting response... "
     ]
    },
    {
     "name": "stdout",
     "output_type": "stream",
     "text": [
      "206 PARTIAL CONTENT\r\nLength: 27530388 (26M), 25205746 (24M) remaining [application/octet-stream]\r\nSaving to: ‘semanticvectors.bin’\r\n\r\n\rsemanticvectors.bin   8%[+                   ]   2.22M  --.-KB/s               "
     ]
    },
    {
     "name": "stdout",
     "output_type": "stream",
     "text": [
      "\rsemanticvectors.bin  14%[+>                  ]   3.82M  3.96MB/s               "
     ]
    },
    {
     "name": "stdout",
     "output_type": "stream",
     "text": [
      "\rsemanticvectors.bin  35%[+=====>             ]   9.32M  11.7MB/s               "
     ]
    },
    {
     "name": "stdout",
     "output_type": "stream",
     "text": [
      "\rsemanticvectors.bin  70%[+============>      ]  18.43M  20.1MB/s               "
     ]
    },
    {
     "name": "stdout",
     "output_type": "stream",
     "text": [
      "\rsemanticvectors.bin 100%[+==================>]  26.25M  25.9MB/s    in 0.9s    \r\n\r\n2019-07-01 15:47:07 (25.9 MB/s) - ‘semanticvectors.bin’ saved [27530388/27530388]\r\n\r\n"
     ]
    },
    {
     "name": "stdout",
     "output_type": "stream",
     "text": [
      "--2019-07-01 15:47:08--  https://www.dropbox.com/s/r8r8ffw9rnjmmo0/permutationvectors.bin\r\nResolving www.dropbox.com... 162.125.1.1\r\nConnecting to www.dropbox.com|162.125.1.1|:443... connected.\r\nHTTP request sent, awaiting response... "
     ]
    },
    {
     "name": "stdout",
     "output_type": "stream",
     "text": [
      "301 Moved Permanently\r\nLocation: /s/raw/r8r8ffw9rnjmmo0/permutationvectors.bin [following]\r\n--2019-07-01 15:47:08--  https://www.dropbox.com/s/raw/r8r8ffw9rnjmmo0/permutationvectors.bin\r\nReusing existing connection to www.dropbox.com:443.\r\nHTTP request sent, awaiting response... "
     ]
    },
    {
     "name": "stdout",
     "output_type": "stream",
     "text": [
      "302 Found\r\nLocation: https://ucc5991afb1da14e5c7f39989d76.dl.dropboxusercontent.com/cd/0/inline/Aj5zcxtEHEJDKoEuUpBmQQJVrI_HwUKagx3v8O99Wr4lPwI8lzyMsQRk-4sQWeMO7SWeR2zvraMwsUUsohbTuJteGXqF5cWds7phorghqh3p_w/file# [following]\r\n--2019-07-01 15:47:08--  https://ucc5991afb1da14e5c7f39989d76.dl.dropboxusercontent.com/cd/0/inline/Aj5zcxtEHEJDKoEuUpBmQQJVrI_HwUKagx3v8O99Wr4lPwI8lzyMsQRk-4sQWeMO7SWeR2zvraMwsUUsohbTuJteGXqF5cWds7phorghqh3p_w/file\r\nResolving ucc5991afb1da14e5c7f39989d76.dl.dropboxusercontent.com... 162.125.1.6\r\nConnecting to ucc5991afb1da14e5c7f39989d76.dl.dropboxusercontent.com|162.125.1.6|:443... connected.\r\nHTTP request sent, awaiting response... "
     ]
    },
    {
     "name": "stdout",
     "output_type": "stream",
     "text": [
      "302 FOUND\r\nLocation: /cd/0/inline2/Aj4N7pQjhGgQ5vHe_V1Q5sgNeURddIGnBDX2DSN0BJtmeUBvYYchszTSlEkKV_khaNZxFWIqayq_O-J6YAlm4vQXGVbBfYZS9_mQfjwLNkHcXyMV_e0LZciLVKjIbzD5kCXKA_kqUjOm1sVSJlrF-NM3AVMoRvFKvByByuTczyCYNlTvgWJf94IiwNP1u2shh4-Z0-Ak1xtMIQvye6zdtlAoKj25wrC8MyZVoZNv9Y1fMeJgGVJHSYIqrKsjjy51eqAbAhOuKSnMHnEwACzTetOVHZoOyEygC8gu6kuRlKSWp7RM7OMO8cb4wchMURDT1ft3188__wh0IAd0KZBRNQQD/file [following]\r\n--2019-07-01 15:47:08--  https://ucc5991afb1da14e5c7f39989d76.dl.dropboxusercontent.com/cd/0/inline2/Aj4N7pQjhGgQ5vHe_V1Q5sgNeURddIGnBDX2DSN0BJtmeUBvYYchszTSlEkKV_khaNZxFWIqayq_O-J6YAlm4vQXGVbBfYZS9_mQfjwLNkHcXyMV_e0LZciLVKjIbzD5kCXKA_kqUjOm1sVSJlrF-NM3AVMoRvFKvByByuTczyCYNlTvgWJf94IiwNP1u2shh4-Z0-Ak1xtMIQvye6zdtlAoKj25wrC8MyZVoZNv9Y1fMeJgGVJHSYIqrKsjjy51eqAbAhOuKSnMHnEwACzTetOVHZoOyEygC8gu6kuRlKSWp7RM7OMO8cb4wchMURDT1ft3188__wh0IAd0KZBRNQQD/file\r\nReusing existing connection to ucc5991afb1da14e5c7f39989d76.dl.dropboxusercontent.com:443.\r\nHTTP request sent, awaiting response... "
     ]
    },
    {
     "name": "stdout",
     "output_type": "stream",
     "text": [
      "200 OK\r\nLength: 24821 (24K) [application/octet-stream]\r\nSaving to: ‘permutationvectors.bin’\r\n\r\n\rpermutationvectors.   0%[                    ]       0  --.-KB/s               \rpermutationvectors. 100%[===================>]  24.24K  --.-KB/s    in 0.002s  \r\n\r\n2019-07-01 15:47:08 (9.71 MB/s) - ‘permutationvectors.bin’ saved [24821/24821]\r\n\r\n"
     ]
    },
    {
     "name": "stdout",
     "output_type": "stream",
     "text": [
      "--2019-07-01 15:47:08--  https://www.dropbox.com/s/nf28cvp1ocvyh1s/elementalvectors.bin\r\nResolving www.dropbox.com... 162.125.1.1\r\nConnecting to www.dropbox.com|162.125.1.1|:443... connected.\r\nHTTP request sent, awaiting response... "
     ]
    },
    {
     "name": "stdout",
     "output_type": "stream",
     "text": [
      "301 Moved Permanently\r\nLocation: /s/raw/nf28cvp1ocvyh1s/elementalvectors.bin [following]\r\n--2019-07-01 15:47:08--  https://www.dropbox.com/s/raw/nf28cvp1ocvyh1s/elementalvectors.bin\r\nReusing existing connection to www.dropbox.com:443.\r\nHTTP request sent, awaiting response... "
     ]
    },
    {
     "name": "stdout",
     "output_type": "stream",
     "text": [
      "302 Found\r\nLocation: https://uc56cd63226f3e383bd782fae7ef.dl.dropboxusercontent.com/cd/0/inline/Aj5s4DKSI_rCy4fN9dpkdSyC_gMA4uaxhhpNHfK9U7yW_KQVy-3Pk4YdXcRNjCFMJZwNW_W0TvrUmOSW3UF3DeriDLuWUgW895o6cvSZodTJ_Q/file# [following]\r\n--2019-07-01 15:47:09--  https://uc56cd63226f3e383bd782fae7ef.dl.dropboxusercontent.com/cd/0/inline/Aj5s4DKSI_rCy4fN9dpkdSyC_gMA4uaxhhpNHfK9U7yW_KQVy-3Pk4YdXcRNjCFMJZwNW_W0TvrUmOSW3UF3DeriDLuWUgW895o6cvSZodTJ_Q/file\r\nResolving uc56cd63226f3e383bd782fae7ef.dl.dropboxusercontent.com... 162.125.1.6\r\nConnecting to uc56cd63226f3e383bd782fae7ef.dl.dropboxusercontent.com|162.125.1.6|:443... connected.\r\n"
     ]
    },
    {
     "name": "stdout",
     "output_type": "stream",
     "text": [
      "HTTP request sent, awaiting response... "
     ]
    },
    {
     "name": "stdout",
     "output_type": "stream",
     "text": [
      "302 FOUND\r\nLocation: /cd/0/inline2/Aj7cvszasKh1DPIyaoNY0BKUXy-3ItWnjpZge6mfsTLyRXOtjuGVOvh5tTfpWMiIYHmgEdTdlzSf9Afiv7iJp8tPjuBGo1gDfzkVx7sgqNA0IlamMfyumC98oMM_jqFfZkopMCUkTQ8yLaZumwocUOh3yEAD0JVG2Wentd2a5f9LVt3wBzLs02qqH3XvdjuCRGLa0kyVFOmlvY5ozvx01HNNfzFyRzKIif88z1WcfIU06wbEn9y2DOFin-BtmCodOG5vLwIVqROgdIrTDi0KWspvbhxDg3BP58E446ngVpJGQXrVTzvq5SQCfKlHGQI1MtrtoPzdxBi2Txruhx09-KbQ/file [following]\r\n--2019-07-01 15:47:09--  https://uc56cd63226f3e383bd782fae7ef.dl.dropboxusercontent.com/cd/0/inline2/Aj7cvszasKh1DPIyaoNY0BKUXy-3ItWnjpZge6mfsTLyRXOtjuGVOvh5tTfpWMiIYHmgEdTdlzSf9Afiv7iJp8tPjuBGo1gDfzkVx7sgqNA0IlamMfyumC98oMM_jqFfZkopMCUkTQ8yLaZumwocUOh3yEAD0JVG2Wentd2a5f9LVt3wBzLs02qqH3XvdjuCRGLa0kyVFOmlvY5ozvx01HNNfzFyRzKIif88z1WcfIU06wbEn9y2DOFin-BtmCodOG5vLwIVqROgdIrTDi0KWspvbhxDg3BP58E446ngVpJGQXrVTzvq5SQCfKlHGQI1MtrtoPzdxBi2Txruhx09-KbQ/file\r\nReusing existing connection to uc56cd63226f3e383bd782fae7ef.dl.dropboxusercontent.com:443.\r\nHTTP request sent, awaiting response... "
     ]
    },
    {
     "name": "stdout",
     "output_type": "stream",
     "text": [
      "200 OK\r\nLength: 27530388 (26M) [application/octet-stream]\r\nSaving to: ‘elementalvectors.bin’\r\n\r\n\relementalvectors.bi   0%[                    ]       0  --.-KB/s               "
     ]
    },
    {
     "name": "stdout",
     "output_type": "stream",
     "text": [
      "\relementalvectors.bi   3%[                    ]   1.04M  4.52MB/s               "
     ]
    },
    {
     "name": "stdout",
     "output_type": "stream",
     "text": [
      "\relementalvectors.bi  13%[=>                  ]   3.54M  6.97MB/s               "
     ]
    },
    {
     "name": "stdout",
     "output_type": "stream",
     "text": [
      "\relementalvectors.bi  14%[=>                  ]   3.86M  7.08MB/s    in 0.5s    \r\n\r\n2019-07-01 15:47:10 (7.08 MB/s) - Read error at byte 4045918/27530388 (error:1408F119:SSL routines:SSL3_GET_RECORD:decryption failed or bad record mac). Retrying.\r\n\r\n"
     ]
    },
    {
     "name": "stdout",
     "output_type": "stream",
     "text": [
      "--2019-07-01 15:47:11--  (try: 2)  https://uc56cd63226f3e383bd782fae7ef.dl.dropboxusercontent.com/cd/0/inline2/Aj7cvszasKh1DPIyaoNY0BKUXy-3ItWnjpZge6mfsTLyRXOtjuGVOvh5tTfpWMiIYHmgEdTdlzSf9Afiv7iJp8tPjuBGo1gDfzkVx7sgqNA0IlamMfyumC98oMM_jqFfZkopMCUkTQ8yLaZumwocUOh3yEAD0JVG2Wentd2a5f9LVt3wBzLs02qqH3XvdjuCRGLa0kyVFOmlvY5ozvx01HNNfzFyRzKIif88z1WcfIU06wbEn9y2DOFin-BtmCodOG5vLwIVqROgdIrTDi0KWspvbhxDg3BP58E446ngVpJGQXrVTzvq5SQCfKlHGQI1MtrtoPzdxBi2Txruhx09-KbQ/file\r\nConnecting to uc56cd63226f3e383bd782fae7ef.dl.dropboxusercontent.com|162.125.1.6|:443... connected.\r\n"
     ]
    },
    {
     "name": "stdout",
     "output_type": "stream",
     "text": [
      "HTTP request sent, awaiting response... "
     ]
    },
    {
     "name": "stdout",
     "output_type": "stream",
     "text": [
      "206 PARTIAL CONTENT\r\nLength: 27530388 (26M), 23484470 (22M) remaining [application/octet-stream]\r\nSaving to: ‘elementalvectors.bin’\r\n\r\n\relementalvectors.bi  14%[++                  ]   3.86M  --.-KB/s               \relementalvectors.bi  17%[++>                 ]   4.56M  --.-KB/s    in 0.05s   \r\n\r\n"
     ]
    },
    {
     "name": "stdout",
     "output_type": "stream",
     "text": [
      "2019-07-01 15:47:12 (13.5 MB/s) - Read error at byte 4782236/27530388 (error:1408F119:SSL routines:SSL3_GET_RECORD:decryption failed or bad record mac). Retrying.\r\n\r\n"
     ]
    },
    {
     "name": "stdout",
     "output_type": "stream",
     "text": [
      "--2019-07-01 15:47:14--  (try: 3)  https://uc56cd63226f3e383bd782fae7ef.dl.dropboxusercontent.com/cd/0/inline2/Aj7cvszasKh1DPIyaoNY0BKUXy-3ItWnjpZge6mfsTLyRXOtjuGVOvh5tTfpWMiIYHmgEdTdlzSf9Afiv7iJp8tPjuBGo1gDfzkVx7sgqNA0IlamMfyumC98oMM_jqFfZkopMCUkTQ8yLaZumwocUOh3yEAD0JVG2Wentd2a5f9LVt3wBzLs02qqH3XvdjuCRGLa0kyVFOmlvY5ozvx01HNNfzFyRzKIif88z1WcfIU06wbEn9y2DOFin-BtmCodOG5vLwIVqROgdIrTDi0KWspvbhxDg3BP58E446ngVpJGQXrVTzvq5SQCfKlHGQI1MtrtoPzdxBi2Txruhx09-KbQ/file\r\nConnecting to uc56cd63226f3e383bd782fae7ef.dl.dropboxusercontent.com|162.125.1.6|:443... "
     ]
    },
    {
     "name": "stdout",
     "output_type": "stream",
     "text": [
      "connected.\r\nHTTP request sent, awaiting response... "
     ]
    },
    {
     "name": "stdout",
     "output_type": "stream",
     "text": [
      "206 PARTIAL CONTENT\r\nLength: 27530388 (26M), 22748152 (22M) remaining [application/octet-stream]\r\nSaving to: ‘elementalvectors.bin’\r\n\r\n\relementalvectors.bi  17%[+++                 ]   4.56M  --.-KB/s               "
     ]
    },
    {
     "name": "stdout",
     "output_type": "stream",
     "text": [
      "\relementalvectors.bi  49%[+++=====>           ]  12.98M  --.-KB/s    in 0.1s    \r\n\r\n2019-07-01 15:47:15 (63.8 MB/s) - Read error at byte 13612250/27530388 (error:1408F119:SSL routines:SSL3_GET_RECORD:decryption failed or bad record mac). Retrying.\r\n\r\n"
     ]
    },
    {
     "name": "stdout",
     "output_type": "stream",
     "text": [
      "--2019-07-01 15:47:18--  (try: 4)  https://uc56cd63226f3e383bd782fae7ef.dl.dropboxusercontent.com/cd/0/inline2/Aj7cvszasKh1DPIyaoNY0BKUXy-3ItWnjpZge6mfsTLyRXOtjuGVOvh5tTfpWMiIYHmgEdTdlzSf9Afiv7iJp8tPjuBGo1gDfzkVx7sgqNA0IlamMfyumC98oMM_jqFfZkopMCUkTQ8yLaZumwocUOh3yEAD0JVG2Wentd2a5f9LVt3wBzLs02qqH3XvdjuCRGLa0kyVFOmlvY5ozvx01HNNfzFyRzKIif88z1WcfIU06wbEn9y2DOFin-BtmCodOG5vLwIVqROgdIrTDi0KWspvbhxDg3BP58E446ngVpJGQXrVTzvq5SQCfKlHGQI1MtrtoPzdxBi2Txruhx09-KbQ/file\r\nConnecting to uc56cd63226f3e383bd782fae7ef.dl.dropboxusercontent.com|162.125.1.6|:443... connected.\r\nHTTP request sent, awaiting response... "
     ]
    },
    {
     "name": "stdout",
     "output_type": "stream",
     "text": [
      "206 PARTIAL CONTENT\r\nLength: 27530388 (26M), 13918138 (13M) remaining [application/octet-stream]\r\nSaving to: ‘elementalvectors.bin’\r\n\r\n\relementalvectors.bi  49%[+++++++++           ]  12.98M  --.-KB/s               "
     ]
    },
    {
     "name": "stdout",
     "output_type": "stream",
     "text": [
      "\relementalvectors.bi  52%[+++++++++>          ]  13.66M  2.69MB/s               "
     ]
    },
    {
     "name": "stdout",
     "output_type": "stream",
     "text": [
      "\relementalvectors.bi  57%[+++++++++=>         ]  15.04M  4.39MB/s               \relementalvectors.bi  57%[+++++++++=>         ]  15.04M  4.40MB/s    in 0.5s    \r\n\r\n2019-07-01 15:47:19 (4.40 MB/s) - Read error at byte 15773975/27530388 (error:1408F119:SSL routines:SSL3_GET_RECORD:decryption failed or bad record mac). Retrying.\r\n\r\n"
     ]
    },
    {
     "name": "stdout",
     "output_type": "stream",
     "text": [
      "--2019-07-01 15:47:23--  (try: 5)  https://uc56cd63226f3e383bd782fae7ef.dl.dropboxusercontent.com/cd/0/inline2/Aj7cvszasKh1DPIyaoNY0BKUXy-3ItWnjpZge6mfsTLyRXOtjuGVOvh5tTfpWMiIYHmgEdTdlzSf9Afiv7iJp8tPjuBGo1gDfzkVx7sgqNA0IlamMfyumC98oMM_jqFfZkopMCUkTQ8yLaZumwocUOh3yEAD0JVG2Wentd2a5f9LVt3wBzLs02qqH3XvdjuCRGLa0kyVFOmlvY5ozvx01HNNfzFyRzKIif88z1WcfIU06wbEn9y2DOFin-BtmCodOG5vLwIVqROgdIrTDi0KWspvbhxDg3BP58E446ngVpJGQXrVTzvq5SQCfKlHGQI1MtrtoPzdxBi2Txruhx09-KbQ/file\r\nConnecting to uc56cd63226f3e383bd782fae7ef.dl.dropboxusercontent.com|162.125.1.6|:443... connected.\r\nHTTP request sent, awaiting response... "
     ]
    },
    {
     "name": "stdout",
     "output_type": "stream",
     "text": [
      "206 PARTIAL CONTENT\r\nLength: 27530388 (26M), 11756413 (11M) remaining [application/octet-stream]\r\nSaving to: ‘elementalvectors.bin’\r\n\r\n\relementalvectors.bi  57%[+++++++++++         ]  15.04M  --.-KB/s               "
     ]
    },
    {
     "name": "stdout",
     "output_type": "stream",
     "text": [
      "\relementalvectors.bi  59%[+++++++++++         ]  15.58M  1.53MB/s               "
     ]
    },
    {
     "name": "stdout",
     "output_type": "stream",
     "text": [
      "\relementalvectors.bi  66%[+++++++++++=>       ]  17.59M  4.82MB/s    in 0.5s    \r\n\r\n2019-07-01 15:47:24 (4.82 MB/s) - Read error at byte 18443604/27530388 (error:1408F119:SSL routines:SSL3_GET_RECORD:decryption failed or bad record mac). Retrying.\r\n\r\n"
     ]
    },
    {
     "name": "stdout",
     "output_type": "stream",
     "text": [
      "--2019-07-01 15:47:29--  (try: 6)  https://uc56cd63226f3e383bd782fae7ef.dl.dropboxusercontent.com/cd/0/inline2/Aj7cvszasKh1DPIyaoNY0BKUXy-3ItWnjpZge6mfsTLyRXOtjuGVOvh5tTfpWMiIYHmgEdTdlzSf9Afiv7iJp8tPjuBGo1gDfzkVx7sgqNA0IlamMfyumC98oMM_jqFfZkopMCUkTQ8yLaZumwocUOh3yEAD0JVG2Wentd2a5f9LVt3wBzLs02qqH3XvdjuCRGLa0kyVFOmlvY5ozvx01HNNfzFyRzKIif88z1WcfIU06wbEn9y2DOFin-BtmCodOG5vLwIVqROgdIrTDi0KWspvbhxDg3BP58E446ngVpJGQXrVTzvq5SQCfKlHGQI1MtrtoPzdxBi2Txruhx09-KbQ/file\r\nConnecting to uc56cd63226f3e383bd782fae7ef.dl.dropboxusercontent.com|162.125.1.6|:443... connected.\r\nHTTP request sent, awaiting response... "
     ]
    },
    {
     "name": "stdout",
     "output_type": "stream",
     "text": [
      "206 PARTIAL CONTENT\r\nLength: 27530388 (26M), 9086784 (8.7M) remaining [application/octet-stream]\r\nSaving to: ‘elementalvectors.bin’\r\n\r\n\relementalvectors.bi  66%[+++++++++++++       ]  17.59M  --.-KB/s               "
     ]
    },
    {
     "name": "stdout",
     "output_type": "stream",
     "text": [
      "\relementalvectors.bi  98%[+++++++++++++=====> ]  25.78M  --.-KB/s    in 0.1s    \r\n\r\n2019-07-01 15:47:30 (64.6 MB/s) - Read error at byte 27027858/27530388 (error:1408F119:SSL routines:SSL3_GET_RECORD:decryption failed or bad record mac). Retrying.\r\n\r\n"
     ]
    },
    {
     "name": "stdout",
     "output_type": "stream",
     "text": [
      "--2019-07-01 15:47:36--  (try: 7)  https://uc56cd63226f3e383bd782fae7ef.dl.dropboxusercontent.com/cd/0/inline2/Aj7cvszasKh1DPIyaoNY0BKUXy-3ItWnjpZge6mfsTLyRXOtjuGVOvh5tTfpWMiIYHmgEdTdlzSf9Afiv7iJp8tPjuBGo1gDfzkVx7sgqNA0IlamMfyumC98oMM_jqFfZkopMCUkTQ8yLaZumwocUOh3yEAD0JVG2Wentd2a5f9LVt3wBzLs02qqH3XvdjuCRGLa0kyVFOmlvY5ozvx01HNNfzFyRzKIif88z1WcfIU06wbEn9y2DOFin-BtmCodOG5vLwIVqROgdIrTDi0KWspvbhxDg3BP58E446ngVpJGQXrVTzvq5SQCfKlHGQI1MtrtoPzdxBi2Txruhx09-KbQ/file\r\nConnecting to uc56cd63226f3e383bd782fae7ef.dl.dropboxusercontent.com|162.125.1.6|:443... connected.\r\nHTTP request sent, awaiting response... "
     ]
    },
    {
     "name": "stdout",
     "output_type": "stream",
     "text": [
      "206 PARTIAL CONTENT\r\nLength: 27530388 (26M), 502530 (491K) remaining [application/octet-stream]\r\nSaving to: ‘elementalvectors.bin’\r\n\r\n\relementalvectors.bi  98%[+++++++++++++++++++ ]  25.78M  --.-KB/s               "
     ]
    },
    {
     "name": "stdout",
     "output_type": "stream",
     "text": [
      "\relementalvectors.bi 100%[+++++++++++++++++++>]  26.25M  --.-KB/s    in 0.07s   \r\n\r\n2019-07-01 15:47:36 (6.47 MB/s) - ‘elementalvectors.bin’ saved [27530388/27530388]\r\n\r\n"
     ]
    }
   ],
   "source": [
    "#run once - small sets of vectors for development (low-D, high minimum frequency threshold so relatively few concepts)\n",
    "!wget https://www.dropbox.com/s/3f5qg9nfop2l45e/semanticvectors.bin\n",
    "!wget https://www.dropbox.com/s/r8r8ffw9rnjmmo0/permutationvectors.bin\n",
    "!wget https://www.dropbox.com/s/nf28cvp1ocvyh1s/elementalvectors.bin"
   ]
  },
  {
   "cell_type": "code",
   "execution_count": 1,
   "metadata": {},
   "outputs": [],
   "source": [
    "import copy\n",
    "import permutations.constants as c\n",
    "import permutations.sparse_permutations as sp\n",
    "import permutations.semvec_utils as sv"
   ]
  },
  {
   "cell_type": "code",
   "execution_count": 2,
   "metadata": {},
   "outputs": [
    {
     "name": "stdout",
     "output_type": "stream",
     "text": [
      "100   REAL\n"
     ]
    },
    {
     "name": "stdout",
     "output_type": "stream",
     "text": [
      "((3z)-n-(3-chlorophenyl)-3-((3,5-dimethyl-4-((4-methylpiperazin-1-yl)carbonyl)-1h-pyrrol-2-yl)methylene)-n-methyl-2-oxo-2,3-dihydro-1h-indole-5-sulfonamide)\n"
     ]
    },
    {
     "name": "stdout",
     "output_type": "stream",
     "text": [
      "100   REAL\n"
     ]
    },
    {
     "name": "stdout",
     "output_type": "stream",
     "text": [
      "((3z)-n-(3-chlorophenyl)-3-((3,5-dimethyl-4-((4-methylpiperazin-1-yl)carbonyl)-1h-pyrrol-2-yl)methylene)-n-methyl-2-oxo-2,3-dihydro-1h-indole-5-sulfonamide)\n"
     ]
    },
    {
     "name": "stdout",
     "output_type": "stream",
     "text": [
      "100   PERMUTATION\n"
     ]
    }
   ],
   "source": [
    "#run once \n",
    "semanticvectors = sv.readfile('semanticvectors.bin')\n",
    "elementalvectors = sv.readfile('elementalvectors.bin')\n",
    "permutation_cache = sv.readfile('permutationvectors.bin')\n"
   ]
  },
  {
   "cell_type": "code",
   "execution_count": 3,
   "metadata": {},
   "outputs": [
    {
     "name": "stdout",
     "output_type": "stream",
     "text": [
      "['docetaxel', 'gemcitabine', 'etoposide', 'paclitaxel', 'carboplatin', 'erlotinib', 'gefitinib', 'capecitabine', 'cetuximab', 'fluorouracil']\n['docetaxel', 'gemcitabine', 'etoposide', 'paclitaxel', 'carboplatin', 'erlotinib', 'gefitinib', 'capecitabine', 'cetuximab', 'fluorouracil']\n"
     ]
    }
   ],
   "source": [
    "#nearest neighbor by term or by vector\n",
    "print(sv.get_k_vec_neighbors(semanticvectors,'docetaxel',10))\n",
    "print(sv.get_k_neighbors(semanticvectors,sv.getvector(semanticvectors,'docetaxel'),10))"
   ]
  },
  {
   "cell_type": "code",
   "execution_count": 4,
   "metadata": {},
   "outputs": [
    {
     "name": "stdout",
     "output_type": "stream",
     "text": [
      "['dopamine_antagonists', 'antidepressive_agents', 'monoamine_oxidase_inhibitors', 'serotonin_uptake_inhibitors', 'reuptake_inhibitors', 'antipsychotic_agents', 'selective_serotonin_re-uptake_inhibitor', 'antidepressive_agents,_tricyclic', 'atypical_antipsychotic', 'serotonin_agents']\n"
     ]
    }
   ],
   "source": [
    "#single predicate search\n",
    "semvec=copy.copy(sv.getvector(semanticvectors,'prozac'))\n",
    "permvec=sp.permute_vector(sv.getvector(permutation_cache,'_ISA'),semvec)\n",
    "results=sv.get_k_neighbors(elementalvectors, permvec, 10)\n",
    "print(results)"
   ]
  },
  {
   "cell_type": "code",
   "execution_count": 5,
   "metadata": {},
   "outputs": [
    {
     "name": "stdout",
     "output_type": "stream",
     "text": [
      "['plants', 'obsessive-compulsive_disorder', 'phobia,_social', 'depression,_bipolar', 'schizoaffective_disorder', 'sleeplessness', 'relationships', 'cattle', 'chronic_schizophrenia', 'country']\n"
     ]
    }
   ],
   "source": [
    "#double predicate search - not sure why plants and cattle show up, but the others make sense\n",
    "semvec=copy.copy(sv.getvector(semanticvectors,'prozac'))\n",
    "permvec=sp.permute_vector(sv.getvector(permutation_cache,'_ISA'),semvec)\n",
    "permvec=sp.permute_vector(sv.getvector(permutation_cache,'TREATS-INV'),permvec)\n",
    "results=sv.get_k_neighbors(semanticvectors, permvec, 10)\n",
    "print(results)"
   ]
  },
  {
   "cell_type": "code",
   "execution_count": 14,
   "metadata": {},
   "outputs": [
    {
     "name": "stdout",
     "output_type": "stream",
     "text": [
      "--2019-07-01 23:27:42--  https://www.dropbox.com/s/53x384ca2ehhcnd/semanticvectors_1024.bin\r\n"
     ]
    },
    {
     "name": "stdout",
     "output_type": "stream",
     "text": [
      "Resolving www.dropbox.com... 162.125.1.1\r\nConnecting to www.dropbox.com|162.125.1.1|:443... connected.\r\n"
     ]
    },
    {
     "name": "stdout",
     "output_type": "stream",
     "text": [
      "HTTP request sent, awaiting response... "
     ]
    },
    {
     "name": "stdout",
     "output_type": "stream",
     "text": [
      "301 Moved Permanently\r\nLocation: /s/raw/53x384ca2ehhcnd/semanticvectors_1024.bin [following]\r\n--2019-07-01 23:27:42--  https://www.dropbox.com/s/raw/53x384ca2ehhcnd/semanticvectors_1024.bin\r\nReusing existing connection to www.dropbox.com:443.\r\nHTTP request sent, awaiting response... "
     ]
    },
    {
     "name": "stdout",
     "output_type": "stream",
     "text": [
      "302 Found\r\nLocation: https://uc9516c5c8816b159e2062d641a3.dl.dropboxusercontent.com/cd/0/inline/Aj5X8ON9e9Q-oe3iEUikIfovrnxBjEXIQLOhf_d8GJ1Js2Iz4X-dK_k_zbMQ3mga4C5ijFVcladFVZnvSi01RnHHnOpbzSgdPRjxSYdGQIS6Yg/file# [following]\r\n--2019-07-01 23:27:42--  https://uc9516c5c8816b159e2062d641a3.dl.dropboxusercontent.com/cd/0/inline/Aj5X8ON9e9Q-oe3iEUikIfovrnxBjEXIQLOhf_d8GJ1Js2Iz4X-dK_k_zbMQ3mga4C5ijFVcladFVZnvSi01RnHHnOpbzSgdPRjxSYdGQIS6Yg/file\r\nResolving uc9516c5c8816b159e2062d641a3.dl.dropboxusercontent.com... 162.125.1.6\r\nConnecting to uc9516c5c8816b159e2062d641a3.dl.dropboxusercontent.com|162.125.1.6|:443... connected.\r\n"
     ]
    },
    {
     "name": "stdout",
     "output_type": "stream",
     "text": [
      "HTTP request sent, awaiting response... "
     ]
    },
    {
     "name": "stdout",
     "output_type": "stream",
     "text": [
      "302 FOUND\r\nLocation: /cd/0/inline2/Aj55Ppho9SywMWfQa6lJ5P2x8BERlHzaYm1HQOV9QTqGB3BhZFtdKafz1AtoxebYlMSmkeEkdp9VMjoTQCm0oswkazlhmXyFfGM1EcnQ31tC3Qp9nqLLKsv72Kq4leCt5xY3aV9FYJARj9P3jztNy22T9swnwgfPmFi0hDIctaMTcMXQwYo6-l9NrAijymW-WuvdIS_01dTpPczOPeGfdZE3kZneYoOHe1GryjaS17MhMoLAeM_hBHIvqJuji6R_XVAFDwhwgL4loBALOFrCOYoZSySK9EIGkCTDPnuLGF1WW7RWpTggN-Ecgw-La86UASMjuNNF9Jr32Tl1l-hSf2Tt/file [following]\r\n--2019-07-01 23:27:43--  https://uc9516c5c8816b159e2062d641a3.dl.dropboxusercontent.com/cd/0/inline2/Aj55Ppho9SywMWfQa6lJ5P2x8BERlHzaYm1HQOV9QTqGB3BhZFtdKafz1AtoxebYlMSmkeEkdp9VMjoTQCm0oswkazlhmXyFfGM1EcnQ31tC3Qp9nqLLKsv72Kq4leCt5xY3aV9FYJARj9P3jztNy22T9swnwgfPmFi0hDIctaMTcMXQwYo6-l9NrAijymW-WuvdIS_01dTpPczOPeGfdZE3kZneYoOHe1GryjaS17MhMoLAeM_hBHIvqJuji6R_XVAFDwhwgL4loBALOFrCOYoZSySK9EIGkCTDPnuLGF1WW7RWpTggN-Ecgw-La86UASMjuNNF9Jr32Tl1l-hSf2Tt/file\r\nReusing existing connection to uc9516c5c8816b159e2062d641a3.dl.dropboxusercontent.com:443.\r\nHTTP request sent, awaiting response... "
     ]
    },
    {
     "name": "stdout",
     "output_type": "stream",
     "text": [
      "200 OK\r\nLength: 4349794 (4.1M) [application/octet-stream]\r\nSaving to: ‘semanticvectors_1024.bin’\r\n\r\n\rsemanticvectors_102   0%[                    ]       0  --.-KB/s               "
     ]
    },
    {
     "name": "stdout",
     "output_type": "stream",
     "text": [
      "\rsemanticvectors_102  25%[====>               ]   1.07M  5.29MB/s               "
     ]
    },
    {
     "name": "stdout",
     "output_type": "stream",
     "text": [
      "\rsemanticvectors_102  59%[==========>         ]   2.48M  6.14MB/s               "
     ]
    },
    {
     "name": "stdout",
     "output_type": "stream",
     "text": [
      "\rsemanticvectors_102  89%[================>   ]   3.73M  6.14MB/s               "
     ]
    },
    {
     "name": "stdout",
     "output_type": "stream",
     "text": [
      "\rsemanticvectors_102 100%[===================>]   4.15M  6.12MB/s    in 0.7s    \r\n\r\n2019-07-01 23:27:44 (6.12 MB/s) - ‘semanticvectors_1024.bin’ saved [4349794/4349794]\r\n\r\n"
     ]
    }
   ],
   "source": [
    "#run once\n",
    "!wget https://www.dropbox.com/s/53x384ca2ehhcnd/semanticvectors_1024.bin"
   ]
  },
  {
   "cell_type": "code",
   "execution_count": 6,
   "metadata": {},
   "outputs": [
    {
     "name": "stdout",
     "output_type": "stream",
     "text": [
      "1024   BINARY\n"
     ]
    },
    {
     "name": "stdout",
     "output_type": "stream",
     "text": [
      "2-(2-(2-chloro-3-(2-(3,3-dimethyl-5-sulfo-1-(4-sulfo-butyl)-3h-indol-2-yl)-vinyl)-cyclohex-2-enylidene)-ethylidene)-3,3-dimethyl-1-(4-sulfo-butyl)-2,3-dihydro-1h-indole-5-carboxylic_acid\n((3z)-n-(3-chlorophenyl)-3-((3,5-dimethyl-4-((4-methylpiperazin-1-yl)carbonyl)-1h-pyrrol-2-yl)methylene)-n-methyl-2-oxo-2,3-dihydro-1h-indole-5-sulfonamide)\n"
     ]
    }
   ],
   "source": [
    "vecs=sv.readfile('semanticvectors_1024.bin')\n"
   ]
  },
  {
   "cell_type": "code",
   "execution_count": 8,
   "metadata": {},
   "outputs": [
    {
     "name": "stdout",
     "output_type": "stream",
     "text": [
      "['paclitaxel', 'bax_gene|bax', 'caspase-3', 'bortezomib', 'etoposide', 'caspase', 'curcumin', 'survivin', 'bcl2-related_protein_11|bcl2l11', 'proto-oncogene_proteins_c-myc|myc']\n"
     ]
    }
   ],
   "source": [
    "print(sv.get_k_bvec_neighbors(vecs,'paclitaxel',10))"
   ]
  },
  {
   "cell_type": "code",
   "execution_count": 13,
   "metadata": {
    "collapsed": false
   },
   "outputs": [
    {
     "name": "stdout",
     "output_type": "stream",
     "text": [
      "# packages in environment at /Users/tcohen1/anaconda3:\r\n#\r\n# Name                    Version                   Build  Channel\r\n_ipyw_jlab_nb_ext_conf    0.1.0                    py37_0  \r\nalabaster                 0.7.12                   py37_0  \r\nanaconda                  2018.12                  py37_0  \r\nanaconda-client           1.7.2                    py37_0  \r\nanaconda-navigator        1.9.6                    py37_0  \r\nanaconda-project          0.8.2                    py37_0  \r\nappnope                   0.1.0                    py37_0  \r\nappscript                 1.0.1            py37h1de35cc_1  \r\nasn1crypto                0.24.0                   py37_0  \r\nastroid                   2.1.0                    py37_0  \r\nastropy                   3.1              py37h1de35cc_0  \r\natomicwrites              1.2.1                    py37_0  \r\nattrs                     18.2.0           py37h28b3542_0  \r\nbabel                     2.6.0                    py37_0  \r\nbackcall                  0.1.0                    py37_0  \r\nbackports                 1.0                      py37_1  \r\nbackports.os              0.1.1                    py37_0  \r\nbackports.shutil_get_terminal_size 1.0.0                    py37_2  \r\nbash-kernel               0.7.1                    pypi_0    pypi\r\nbeautifulsoup4            4.6.3                    py37_0  \r\nbitarray                  0.8.3            py37h1de35cc_0  \r\nbitstring                 3.1.5                    pypi_0    pypi\r\nbkcharts                  0.2                      py37_0  \r\nblas                      1.0                         mkl  \r\nblaze                     0.11.3                   py37_0  \r\nbleach                    3.0.2                    py37_0  \r\nblosc                     1.14.4               hd9629dc_0  \r\nbokeh                     1.0.2                    py37_0  \r\nboto                      2.49.0                   py37_0  \r\nbottleneck                1.2.1            py37h1d22016_1  \r\nbzip2                     1.0.6                h1de35cc_5  \r\nca-certificates           2018.03.07                    0  \r\ncertifi                   2018.11.29               py37_0  \r\ncffi                      1.11.5           py37h6174b99_1  \r\nchardet                   3.0.4                    py37_1  \r\nclick                     7.0                      py37_0  \r\ncloudpickle               0.6.1                    py37_0  \r\nclyent                    1.2.2                    py37_1  \r\ncolorama                  0.4.1                    py37_0  \r\nconda                     4.7.5                    py37_0  \r\nconda-build               3.17.6                   py37_0  \r\nconda-env                 2.6.0                         1  \r\nconda-package-handling    1.3.10                   py37_0  \r\nconda-verify              3.1.1                    py37_0  \r\ncontextlib2               0.5.5                    py37_0  \r\ncryptography              2.4.2            py37ha12b0ac_0  \r\ncurl                      7.63.0            ha441bb4_1000  \r\ncycler                    0.10.0                   py37_0  \r\ncython                    0.29.2           py37h0a44026_0  \r\ncytoolz                   0.9.0.1          py37h1de35cc_1  \r\ndask                      1.0.0                    py37_0  \r\ndask-core                 1.0.0                    py37_0  \r\ndatashape                 0.5.4                    py37_1  \r\ndbus                      1.13.2               h760590f_1  \r\ndecorator                 4.3.0                    py37_0  \r\ndefusedxml                0.5.0                    py37_1  \r\ndistributed               1.25.1                   py37_0  \r\ndocutils                  0.14                     py37_0  \r\nentrypoints               0.2.3                    py37_2  \r\net_xmlfile                1.0.1                    py37_0  \r\nexpat                     2.2.6                h0a44026_0  \r\nfastcache                 1.0.2            py37h1de35cc_2  \r\nfilelock                  3.0.10                   py37_0  \r\nflask                     1.0.2                    py37_1  \r\nflask-cors                3.0.7                    py37_0  \r\nfreetype                  2.9.1                hb4e5f40_0  \r\nfuture                    0.17.1                   py37_0  \r\nget_terminal_size         1.0.0                h7520d66_0  \r\ngettext                   0.19.8.1             h15daf44_3  \r\ngevent                    1.3.7            py37h1de35cc_1  \r\nglib                      2.56.2               hd9629dc_0  \r\nglob2                     0.6                      py37_1  \r\ngmp                       6.1.2                hb37e062_1  \r\ngmpy2                     2.0.8            py37h6ef4df4_2  \r\ngreenlet                  0.4.15           py37h1de35cc_0  \r\nh5py                      2.8.0            py37h878fce3_3  \r\nhdf5                      1.10.2               hfa1e0ec_1  \r\nheapdict                  1.0.0                    py37_2  \r\nhtml5lib                  1.0.1                    py37_0  \r\nicu                       58.2                 h4b95b61_1  \r\nidna                      2.8                      py37_0  \r\nimageio                   2.4.1                    py37_0  \r\nimagesize                 1.1.0                    py37_0  \r\nimportlib_metadata        0.6                      py37_0  \r\nintel-openmp              2019.1                      144  \r\nipykernel                 5.1.0            py37h39e3cac_0  \r\nipython                   7.2.0            py37h39e3cac_0  \r\nipython_genutils          0.2.0                    py37_0  \r\nipywidgets                7.4.2                    py37_0  \r\nisort                     4.3.4                    py37_0  \r\nitsdangerous              1.1.0                    py37_0  \r\njbig                      2.1                  h4d881f8_0  \r\njdcal                     1.4                      py37_0  \r\njedi                      0.13.2                   py37_0  \r\njinja2                    2.10                     py37_0  \r\njpeg                      9b                   he5867d9_2  \r\njsonschema                2.6.0                    py37_0  \r\njupyter                   1.0.0                    py37_7  \r\njupyter_client            5.2.4                    py37_0  \r\njupyter_console           6.0.0                    py37_0  \r\njupyter_core              4.4.0                    py37_0  \r\njupyterlab                0.35.3                   py37_0  \r\njupyterlab_server         0.2.0                    py37_0  \r\nkeras-applications        1.0.7                    pypi_0    pypi\r\nkeras-preprocessing       1.0.9                    pypi_0    pypi\r\nkeyring                   17.0.0                   py37_0  \r\nkiwisolver                1.0.1            py37h0a44026_0  \r\nkrb5                      1.16.1               hddcf347_7  \r\nlazy-object-proxy         1.3.1            py37h1de35cc_2  \r\nlibarchive                3.3.3                h786848e_5  \r\nlibcurl                   7.63.0            h051b688_1000  \r\nlibcxx                    4.0.1                hcfea43d_1  \r\nlibcxxabi                 4.0.1                hcfea43d_1  \r\nlibedit                   3.1.20170329         hb402a30_2  \r\nlibffi                    3.2.1                h475c297_4  \r\nlibgfortran               3.0.1                h93005f0_2  \r\nlibiconv                  1.15                 hdd342a3_7  \r\nliblief                   0.9.0                h2a1bed3_0  \r\nlibpng                    1.6.35               ha441bb4_0  \r\nlibsodium                 1.0.16               h3efe00b_0  \r\nlibssh2                   1.8.0                ha12b0ac_4  \r\nlibtiff                   4.0.9                hcb84e12_2  \r\nlibxml2                   2.9.8                hab757c2_1  \r\nlibxslt                   1.1.32               hb819dd2_0  \r\nllvmlite                  0.26.0           py37h8c7ce04_0  \r\nlocket                    0.2.0                    py37_1  \r\nlxml                      4.2.5            py37hef8c89e_0  \r\nlz4-c                     1.8.1.2              h1de35cc_0  \r\nlzo                       2.10                 h362108e_2  \r\nmarkupsafe                1.1.0            py37h1de35cc_0  \r\nmatplotlib                3.0.2            py37h54f8f79_0  \r\nmccabe                    0.6.1                    py37_1  \r\nmistune                   0.8.4            py37h1de35cc_0  \r\nmkl                       2019.1                      144  \r\nmkl-service               1.1.2            py37hfbe908c_5  \r\nmkl_fft                   1.0.6            py37h27c97d8_0  \r\nmkl_random                1.0.2            py37h27c97d8_0  \r\nmore-itertools            4.3.0                    py37_0  \r\nmpc                       1.1.0                h6ef4df4_1  \r\nmpfr                      4.0.1                h3018a27_3  \r\nmpmath                    1.1.0                    py37_0  \r\nmsgpack-python            0.5.6            py37h04f5b5a_1  \r\nmultipledispatch          0.6.0                    py37_0  \r\nnavigator-updater         0.2.1                    py37_0  \r\nnbconvert                 5.4.0                    py37_1  \r\nnbformat                  4.4.0                    py37_0  \r\nncurses                   6.1                  h0a44026_1  \r\nnetworkx                  2.2                      py37_1  \r\nnltk                      3.4                      py37_1  \r\nnose                      1.3.7                    py37_2  \r\nnotebook                  5.7.4                    py37_0  \r\nnumba                     0.41.0           py37h6440ff4_0  \r\nnumexpr                   2.6.8            py37h7413580_0  \r\nnumpy                     1.15.4           py37hacdab7b_0  \r\nnumpy-base                1.15.4           py37h6575580_0  \r\nnumpydoc                  0.8.0                    py37_0  \r\nodo                       0.5.1                    py37_0  \r\nolefile                   0.46                     py37_0  \r\nopenpyxl                  2.5.12                   py37_0  \r\nopenssl                   1.1.1a               h1de35cc_0  \r\npackaging                 18.0                     py37_0  \r\npandas                    0.23.4           py37h6440ff4_0  \r\npandoc                    1.19.2.1             ha5e8f32_1  \r\npandocfilters             1.4.2                    py37_1  \r\nparso                     0.3.1                    py37_0  \r\npartd                     0.3.9                    py37_0  \r\npath.py                   11.5.0                   py37_0  \r\npathlib2                  2.3.3                    py37_0  \r\npatsy                     0.5.1                    py37_0  \r\npcre                      8.42                 h378b8a2_0  \r\npep8                      1.7.1                    py37_0  \r\npexpect                   4.6.0                    py37_0  \r\npickleshare               0.7.5                    py37_0  \r\npillow                    5.3.0            py37hb68e598_0  \r\npip                       18.1                     py37_0  \r\npkginfo                   1.4.2                    py37_1  \r\npluggy                    0.8.0                    py37_0  \r\nply                       3.11                     py37_0  \r\nprometheus_client         0.5.0                    py37_0  \r\nprompt_toolkit            2.0.7                    py37_0  \r\npsutil                    5.4.8            py37h1de35cc_0  \r\nptyprocess                0.6.0                    py37_0  \r\npy                        1.7.0                    py37_0  \r\npy-lief                   0.9.0            py37hd4eaf27_0  \r\npycodestyle               2.4.0                    py37_0  \r\npycosat                   0.6.3            py37h1de35cc_0  \r\npycparser                 2.19                     py37_0  \r\npycrypto                  2.6.1            py37h1de35cc_9  \r\npycurl                    7.43.0.2         py37ha12b0ac_0  \r\npyflakes                  2.0.0                    py37_0  \r\npygments                  2.3.1                    py37_0  \r\npylint                    2.2.2                    py37_0  \r\npyodbc                    4.0.25           py37h0a44026_0  \r\npyopenssl                 18.0.0                   py37_0  \r\npyparsing                 2.3.0                    py37_0  \r\npyqt                      5.9.2            py37h655552a_2  \r\npysocks                   1.6.8                    py37_0  \r\npytables                  3.4.4            py37h13cba08_0  \r\npytest                    4.0.2                    py37_0  \r\npytest-arraydiff          0.3              py37h39e3cac_0  \r\npytest-astropy            0.5.0                    py37_0  \r\npytest-doctestplus        0.2.0                    py37_0  \r\npytest-openfiles          0.3.1                    py37_0  \r\npytest-remotedata         0.3.1                    py37_0  \r\npython                    3.7.1                haf84260_7  \r\npython-dateutil           2.7.5                    py37_0  \r\npython-libarchive-c       2.8                      py37_6  \r\npython.app                2                        py37_9  \r\npytz                      2018.7                   py37_0  \r\npywavelets                1.0.1            py37h1d22016_0  \r\npyyaml                    3.13             py37h1de35cc_0  \r\npyzmq                     17.1.2           py37h1de35cc_0  \r\nqt                        5.9.7                h468cd18_1  \r\nqtawesome                 0.5.3                    py37_0  \r\nqtconsole                 4.4.3                    py37_0  \r\nqtpy                      1.5.2                    py37_0  \r\nreadline                  7.0                  h1de35cc_5  \r\nrequests                  2.21.0                   py37_0  \r\nrope                      0.11.0                   py37_0  \r\nruamel_yaml               0.15.46          py37h1de35cc_0  \r\nscikit-image              0.14.1           py37h0a44026_0  \r\nscikit-learn              0.20.1           py37h27c97d8_0  \r\nscipy                     1.1.0            py37h1410ff5_2  \r\nseaborn                   0.9.0                    py37_0  \r\nsend2trash                1.5.0                    py37_0  \r\nsetuptools                40.6.3                   py37_0  \r\nsimplegeneric             0.8.1                    py37_2  \r\nsingledispatch            3.4.0.3                  py37_0  \r\nsip                       4.19.8           py37h0a44026_0  \r\nsix                       1.12.0                   py37_0  \r\nsnappy                    1.1.7                he62c110_3  \r\nsnowballstemmer           1.2.1                    py37_0  \r\nsortedcollections         1.0.1                    py37_0  \r\nsortedcontainers          2.1.0                    py37_0  \r\nsphinx                    1.8.2                    py37_0  \r\nsphinxcontrib             1.0                      py37_1  \r\nsphinxcontrib-websupport  1.1.0                    py37_1  \r\nspyder                    3.3.2                    py37_0  \r\nspyder-kernels            0.3.0                    py37_0  \r\nsqlalchemy                1.2.15           py37h1de35cc_0  \r\nsqlite                    3.26.0               ha441bb4_0  \r\nstatsmodels               0.9.0            py37h1d22016_0  \r\nsympy                     1.3                      py37_0  \r\ntblib                     1.3.2                    py37_0  \r\nterminado                 0.8.1                    py37_1  \r\ntestpath                  0.4.2                    py37_0  \r\ntk                        8.6.8                ha441bb4_0  \r\ntoolz                     0.9.0                    py37_0  \r\ntornado                   5.1.1            py37h1de35cc_0  \r\ntqdm                      4.28.1           py37h28b3542_0  \r\ntraitlets                 4.3.2                    py37_0  \r\nunicodecsv                0.14.1                   py37_0  \r\nunixodbc                  2.3.7                h1de35cc_0  \r\nurllib3                   1.24.1                   py37_0  \r\nwcwidth                   0.1.7                    py37_0  \r\nwebencodings              0.5.1                    py37_1  \r\nwerkzeug                  0.14.1                   py37_0  \r\nwheel                     0.32.3                   py37_0  \r\nwidgetsnbextension        3.4.2                    py37_0  \r\nwrapt                     1.10.11          py37h1de35cc_2  \r\nwurlitzer                 1.0.2                    py37_0  \r\nxlrd                      1.2.0                    py37_0  \r\nxlsxwriter                1.1.2                    py37_0  \r\nxlwings                   0.15.1                   py37_0  \r\nxlwt                      1.3.0                    py37_0  \r\nxz                        5.2.4                h1de35cc_4  \r\nyaml                      0.1.7                hc338f04_2  \r\nzeromq                    4.2.5                h0a44026_1  \r\nzict                      0.1.3                    py37_0  \r\nzlib                      1.2.11               h1de35cc_3  \r\nzstd                      1.3.7                h5bba6e5_0  \r\n"
     ]
    }
   ],
   "source": [
    "!conda list"
   ]
  },
  {
   "cell_type": "code",
   "execution_count": null,
   "metadata": {},
   "outputs": [],
   "source": []
  }
 ],
 "metadata": {
  "kernelspec": {
   "display_name": "Python 2",
   "language": "python",
   "name": "python2"
  },
  "language_info": {
   "codemirror_mode": {
    "name": "ipython",
    "version": 3
   },
   "file_extension": ".py",
   "mimetype": "text/x-python",
   "name": "python",
   "nbconvert_exporter": "python",
   "pygments_lexer": "ipython3",
   "version": "3.7.1"
  }
 },
 "nbformat": 4,
 "nbformat_minor": 1
}
