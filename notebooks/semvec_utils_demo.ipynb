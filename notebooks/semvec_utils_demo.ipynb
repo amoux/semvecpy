{
 "cells": [
  {
   "cell_type": "markdown",
   "metadata": {},
   "source": [
    "# SemVec Utilities Demo"
   ]
  },
  {
   "cell_type": "code",
   "execution_count": 24,
   "metadata": {
    "ExecuteTime": {
     "end_time": "2019-08-16T23:37:24.759000Z",
     "start_time": "2019-08-16T23:37:24.754642Z"
    }
   },
   "outputs": [],
   "source": [
    "import os\n",
    "import re\n",
    "import sys\n",
    "import wget\n",
    "import copy\n",
    "import numpy as np\n",
    "\n",
    "import semvecpy.permutations.constants as c\n",
    "import semvecpy.permutations.dense_permutations as dp\n",
    "import semvecpy.vectors.semvec_utils as sv\n",
    "\n",
    "basepath=os.path.abspath('..')\n",
    "sys.path.insert(0, basepath)"
   ]
  },
  {
   "cell_type": "code",
   "execution_count": 31,
   "metadata": {},
   "outputs": [
    {
     "name": "stdout",
     "output_type": "stream",
     "text": [
      "100   REAL\n",
      "100   REAL\n",
      "100   PERMUTATION\n"
     ]
    }
   ],
   "source": [
    "def load_vectors_from_url(url):\n",
    "    filename = re.search(r'(?<=\\/)\\w+\\.\\w+(?=\\?dl=1|$)', url).group(0)\n",
    "    path = os.sep.join([os.getcwd(), filename])\n",
    "    if not os.path.isfile(path):\n",
    "        sys.stdout.write(\"Downloading {0} from {1} ... \\n\".format(filename, url))\n",
    "        wget.download(url)\n",
    "    return sv.readfile(path)\n",
    "    \n",
    "semanticvectors = load_vectors_from_url(\"https://www.dropbox.com/s/3f5qg9nfop2l45e/semanticvectors.bin?dl=1\")\n",
    "elementalvectors = load_vectors_from_url(\"https://www.dropbox.com/s/nf28cvp1ocvyh1s/elementalvectors.bin?dl=1\")\n",
    "permuattion_vectors = load_vectors_from_url(\"https://www.dropbox.com/s/r8r8ffw9rnjmmo0/permutationvectors.bin?dl=1\")"
   ]
  },
  {
   "cell_type": "code",
   "execution_count": 18,
   "metadata": {},
   "outputs": [],
   "source": [
    "#norm"
   ]
  },
  {
   "cell_type": "markdown",
   "metadata": {},
   "source": [
    "## Nearest Neighbor Search"
   ]
  },
  {
   "cell_type": "code",
   "execution_count": 25,
   "metadata": {
    "ExecuteTime": {
     "end_time": "2019-08-16T23:42:28.825161Z",
     "start_time": "2019-08-16T23:42:28.446485Z"
    }
   },
   "outputs": [
    {
     "name": "stdout",
     "output_type": "stream",
     "text": [
      "Nearest neighbors of docetaxel\n",
      "44.23 docetaxel\n",
      "42.86 gemcitabine\n",
      "42.68 etoposide\n",
      "42.25 paclitaxel\n",
      "41.89 carboplatin\n",
      "41.73 erlotinib\n",
      "41.35 gefitinib\n",
      "40.80 capecitabine\n",
      "40.26 cetuximab\n",
      "39.85 fluorouracil\n",
      "Nearest neighbors of docetaxel vector\n",
      "44.23 docetaxel\n",
      "42.86 gemcitabine\n",
      "42.68 etoposide\n",
      "42.25 paclitaxel\n",
      "41.89 carboplatin\n",
      "41.73 erlotinib\n",
      "41.35 gefitinib\n",
      "40.80 capecitabine\n",
      "40.26 cetuximab\n",
      "39.85 fluorouracil\n"
     ]
    }
   ],
   "source": [
    "#nearest neighbor by term or by vector\n",
    "res=sv.get_k_vec_neighbors(semanticvectors,'docetaxel',10)\n",
    "print('Nearest neighbors of docetaxel')\n",
    "for re in res:\n",
    "    print(\"{:0.2f}\".format(re[0]),re[1])\n",
    "\n",
    "print('Nearest neighbors of docetaxel vector')\n",
    "res=sv.get_k_neighbors(semanticvectors,sv.getvector(semanticvectors,'docetaxel'),10)\n",
    "for re in res:\n",
    "    print(\"{:0.2f}\".format(re[0]),re[1])"
   ]
  },
  {
   "cell_type": "code",
   "execution_count": 26,
   "metadata": {
    "ExecuteTime": {
     "end_time": "2019-08-16T23:45:39.818394Z",
     "start_time": "2019-08-16T23:45:39.637619Z"
    }
   },
   "outputs": [
    {
     "name": "stdout",
     "output_type": "stream",
     "text": [
      "4.40 dopamine_antagonists\n",
      "4.38 antidepressive_agents\n",
      "4.31 monoamine_oxidase_inhibitors\n",
      "4.27 serotonin_uptake_inhibitors\n",
      "4.13 reuptake_inhibitors\n",
      "4.07 antipsychotic_agents\n",
      "3.70 selective_serotonin_re-uptake_inhibitor\n",
      "3.70 antidepressive_agents,_tricyclic\n",
      "3.66 atypical_antipsychotic\n",
      "3.61 serotonin_agents\n"
     ]
    }
   ],
   "source": [
    "#single predicate search\n",
    "semvec=copy.copy(sv.getvector(semanticvectors,'prozac'))\n",
    "permvec=dp.permute_vector(np.asarray(sv.getvector(permutation_cache,'ISA')),np.asarray(semvec))\n",
    "results=sv.get_k_neighbors(elementalvectors, permvec, 10)\n",
    "for re in results:\n",
    "    print(\"{:0.2f}\".format(re[0]),re[1])"
   ]
  },
  {
   "cell_type": "code",
   "execution_count": 27,
   "metadata": {
    "ExecuteTime": {
     "end_time": "2019-08-16T23:47:15.608487Z",
     "start_time": "2019-08-16T23:47:15.422655Z"
    }
   },
   "outputs": [
    {
     "name": "stdout",
     "output_type": "stream",
     "text": [
      "12.53 plants\n",
      "12.46 obsessive-compulsive_disorder\n",
      "12.32 phobia,_social\n",
      "12.12 depression,_bipolar\n",
      "12.02 schizoaffective_disorder\n",
      "11.96 sleeplessness\n",
      "11.85 relationships\n",
      "11.79 cattle\n",
      "11.78 chronic_schizophrenia\n",
      "11.77 country\n"
     ]
    }
   ],
   "source": [
    "#double predicate search - not sure why plants and cattle show up, but the others make sense\n",
    "semvec=copy.copy(sv.getvector(semanticvectors,'prozac'))\n",
    "permvec=dp.permute_vector(np.asarray(sv.getvector(permutation_cache,'ISA')),np.asarray(semvec))\n",
    "permvec=dp.permute_vector(np.asarray(sv.getvector(permutation_cache,'_TREATS-INV')),np.asarray(permvec))\n",
    "results=sv.get_k_neighbors(semanticvectors, permvec, 10)\n",
    "for re in results:\n",
    "    print(\"{:0.2f}\".format(re[0]),re[1])"
   ]
  },
  {
   "cell_type": "code",
   "execution_count": 34,
   "metadata": {
    "ExecuteTime": {
     "end_time": "2019-08-16T23:47:27.631583Z",
     "start_time": "2019-08-16T23:47:27.550080Z"
    }
   },
   "outputs": [
    {
     "name": "stdout",
     "output_type": "stream",
     "text": [
      "1024   BINARY\n"
     ]
    }
   ],
   "source": [
    "vecs=load_vectors_from_url(\"https://www.dropbox.com/s/53x384ca2ehhcnd/semanticvectors_1024.bin?dl=1\")"
   ]
  },
  {
   "cell_type": "code",
   "execution_count": 35,
   "metadata": {
    "ExecuteTime": {
     "end_time": "2019-08-16T23:47:30.305176Z",
     "start_time": "2019-08-16T23:47:30.294094Z"
    }
   },
   "outputs": [
    {
     "data": {
      "text/plain": [
       "bitarray('1110111100100100011011101010010100111110111111000001001001011010011110100101011000000110000110010100010111001000110001010101000100100101110000011111100101000011110111101100000011010010111110110011110100111101100101111011011100010111111011010111111101100111111111010111110100001110110100010001110001110100010111111111000000100000010001010010101111010011111110101100111010000100011011111110010001011100010100110111001111010110111001111010011110100010111101001100000010011111111000010110001000010110111100010111011111101110000001000111111111011101001111011101110011011111110010100111100101010001111001011110101100111010000110001011101001000100111001001011001110000001011110111110110110000001011101011110111010000011111011100010110001001111101011000010000111110000110001010011011010101011101011100110111101011101001101111001011111110011000110110100010100100100000111001101010011101011110110100100110100110000110100101101010011111000100111001010011001011011011001000000110111110101001001111101011011111111010011001100110000110111')"
      ]
     },
     "execution_count": 35,
     "metadata": {},
     "output_type": "execute_result"
    }
   ],
   "source": [
    "sv.getvector(vecs,'docetaxel')"
   ]
  },
  {
   "cell_type": "code",
   "execution_count": 36,
   "metadata": {
    "ExecuteTime": {
     "end_time": "2019-08-16T23:47:43.602730Z",
     "start_time": "2019-08-16T23:47:43.533449Z"
    }
   },
   "outputs": [
    {
     "name": "stdout",
     "output_type": "stream",
     "text": [
      "[[1.0, 'paclitaxel'], [0.974609375, 'bax_gene|bax'], [0.97265625, 'caspase-3'], [0.96875, 'bortezomib'], [0.966796875, 'etoposide'], [0.96484375, 'caspase'], [0.96484375, 'curcumin'], [0.96484375, 'survivin'], [0.96484375, 'bcl2-related_protein_11|bcl2l11'], [0.962890625, 'proto-oncogene_proteins_c-myc|myc']]\n"
     ]
    }
   ],
   "source": [
    "print(sv.get_k_bvec_neighbors(vecs,'paclitaxel',10))"
   ]
  }
 ],
 "metadata": {
  "kernelspec": {
   "display_name": "Python 3",
   "language": "python",
   "name": "python3"
  },
  "language_info": {
   "codemirror_mode": {
    "name": "ipython",
    "version": 3
   },
   "file_extension": ".py",
   "mimetype": "text/x-python",
   "name": "python",
   "nbconvert_exporter": "python",
   "pygments_lexer": "ipython3",
   "version": "3.7.3"
  }
 },
 "nbformat": 4,
 "nbformat_minor": 1
}
