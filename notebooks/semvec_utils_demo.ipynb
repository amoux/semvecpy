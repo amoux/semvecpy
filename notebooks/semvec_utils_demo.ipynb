{
 "cells": [
  {
   "cell_type": "code",
   "execution_count": 1,
   "metadata": {},
   "outputs": [
    {
     "name": "stdout",
     "output_type": "stream",
     "text": [
      "--2019-07-12 15:09:20--  https://www.dropbox.com/s/3f5qg9nfop2l45e/semanticvectors.bin\n",
      "Resolving www.dropbox.com... 162.125.1.1\n",
      "Connecting to www.dropbox.com|162.125.1.1|:443... connected.\n",
      "HTTP request sent, awaiting response... 301 Moved Permanently\n",
      "Location: /s/raw/3f5qg9nfop2l45e/semanticvectors.bin [following]\n",
      "--2019-07-12 15:09:20--  https://www.dropbox.com/s/raw/3f5qg9nfop2l45e/semanticvectors.bin\n",
      "Reusing existing connection to www.dropbox.com:443.\n",
      "HTTP request sent, awaiting response... 302 Found\n",
      "Location: https://uc86132fd8b45368eff7a6348225.dl.dropboxusercontent.com/cd/0/inline/Aknl3Db8rJ2q7-2t6zGcM0NlnPFaBprJQfzhCsFve2Uf3Kcjgi7uzUTx-16kSzWq-Bo7_O84TTxFzvv8sqLnZ92V-Un_yQtZTXMgpnvjnximLg/file# [following]\n",
      "--2019-07-12 15:09:20--  https://uc86132fd8b45368eff7a6348225.dl.dropboxusercontent.com/cd/0/inline/Aknl3Db8rJ2q7-2t6zGcM0NlnPFaBprJQfzhCsFve2Uf3Kcjgi7uzUTx-16kSzWq-Bo7_O84TTxFzvv8sqLnZ92V-Un_yQtZTXMgpnvjnximLg/file\n",
      "Resolving uc86132fd8b45368eff7a6348225.dl.dropboxusercontent.com... 162.125.1.6\n",
      "Connecting to uc86132fd8b45368eff7a6348225.dl.dropboxusercontent.com|162.125.1.6|:443... connected.\n",
      "HTTP request sent, awaiting response... 302 FOUND\n",
      "Location: /cd/0/inline2/AkmyQoRoeoEOGZq9RgorGkf1jqDA0Ip9uwVcddo-C1zgeuFwK8vAoPPVeBwC84Ob8t1tO8WDJR_PkPlBzphBPIviMkgti3Af3R6_U7ZssyRLIGqm08fW9Y54Mx-wdOwi3IW2hbIQ2dWhC6PO0nHllPguqDmANiGhZ2tFN4neXanYKyCFwFxQ8lVf_mx-31EDPQnO_lMdgcyN8VOcL9FZu4GE0RtYyWDE6LDHS58w-B8nmkLaU4bUk_NM9_4UPKa1IkdzU9NKZrInRK2VUPAX9Q4l6sOp4edMnSZgp0DvEuW1zvhzHGANluU6JnUa5gtzkB-gUhgWbVp_BXMN4FfN-f_t/file [following]\n",
      "--2019-07-12 15:09:20--  https://uc86132fd8b45368eff7a6348225.dl.dropboxusercontent.com/cd/0/inline2/AkmyQoRoeoEOGZq9RgorGkf1jqDA0Ip9uwVcddo-C1zgeuFwK8vAoPPVeBwC84Ob8t1tO8WDJR_PkPlBzphBPIviMkgti3Af3R6_U7ZssyRLIGqm08fW9Y54Mx-wdOwi3IW2hbIQ2dWhC6PO0nHllPguqDmANiGhZ2tFN4neXanYKyCFwFxQ8lVf_mx-31EDPQnO_lMdgcyN8VOcL9FZu4GE0RtYyWDE6LDHS58w-B8nmkLaU4bUk_NM9_4UPKa1IkdzU9NKZrInRK2VUPAX9Q4l6sOp4edMnSZgp0DvEuW1zvhzHGANluU6JnUa5gtzkB-gUhgWbVp_BXMN4FfN-f_t/file\n",
      "Reusing existing connection to uc86132fd8b45368eff7a6348225.dl.dropboxusercontent.com:443.\n",
      "HTTP request sent, awaiting response... 200 OK\n",
      "Length: 27530388 (26M) [application/octet-stream]\n",
      "Saving to: ‘semanticvectors.bin’\n",
      "\n",
      "semanticvectors.bin 100%[===================>]  26.25M  20.1MB/s    in 1.3s    \n",
      "\n",
      "2019-07-12 15:09:22 (20.1 MB/s) - ‘semanticvectors.bin’ saved [27530388/27530388]\n",
      "\n",
      "--2019-07-12 15:09:22--  https://www.dropbox.com/s/r8r8ffw9rnjmmo0/permutationvectors.bin\n",
      "Resolving www.dropbox.com... 162.125.1.1\n",
      "Connecting to www.dropbox.com|162.125.1.1|:443... connected.\n",
      "HTTP request sent, awaiting response... 301 Moved Permanently\n",
      "Location: /s/raw/r8r8ffw9rnjmmo0/permutationvectors.bin [following]\n",
      "--2019-07-12 15:09:23--  https://www.dropbox.com/s/raw/r8r8ffw9rnjmmo0/permutationvectors.bin\n",
      "Reusing existing connection to www.dropbox.com:443.\n",
      "HTTP request sent, awaiting response... 302 Found\n",
      "Location: https://ucba33561a94db7bd75609ed1009.dl.dropboxusercontent.com/cd/0/inline/AkmGJYGWEzGnER6wSkbWQHPmmUo95xfdCypeopCQVkl6kz1Q2A23jJyP-vpMNu0QTWKyva8yEY0hver1B2JViISSqmYGplCiOLfzI7OQRFGzvQ/file# [following]\n",
      "--2019-07-12 15:09:23--  https://ucba33561a94db7bd75609ed1009.dl.dropboxusercontent.com/cd/0/inline/AkmGJYGWEzGnER6wSkbWQHPmmUo95xfdCypeopCQVkl6kz1Q2A23jJyP-vpMNu0QTWKyva8yEY0hver1B2JViISSqmYGplCiOLfzI7OQRFGzvQ/file\n",
      "Resolving ucba33561a94db7bd75609ed1009.dl.dropboxusercontent.com... 162.125.1.6\n",
      "Connecting to ucba33561a94db7bd75609ed1009.dl.dropboxusercontent.com|162.125.1.6|:443... connected.\n",
      "HTTP request sent, awaiting response... 302 FOUND\n",
      "Location: /cd/0/inline2/AklpNPlgWgRGgBIrG8VHBWByko-ic5EWs5E-TjyLKQJseSx1X8kfwP-DNiMEDa06VCl2oYYMG3k5zc1kt1vkAUXeyHpz4eYw4I7JA83CuMj9kyjoZI6zfilTsZ0mCaEdTD5FrObEPYbQhs3Bkye3CZYneK88R3nZzcaaGKvMZnKXpfqZPE5UBwUvxl77KyCfSFT_cLIGaUsBuKgAsid64RD9rYCISwNOa8m-5gp_nbw05ZMqcs3jXpVgGg8iqLCRi-Z9IjEr8h9op6l77URu8gmdH6vcLKte5ffSCuBI3bNkbjg7tQBxuW0hmVELagxmzyCDNBzmCtfLXbNv-W-dBgKK/file [following]\n",
      "--2019-07-12 15:09:23--  https://ucba33561a94db7bd75609ed1009.dl.dropboxusercontent.com/cd/0/inline2/AklpNPlgWgRGgBIrG8VHBWByko-ic5EWs5E-TjyLKQJseSx1X8kfwP-DNiMEDa06VCl2oYYMG3k5zc1kt1vkAUXeyHpz4eYw4I7JA83CuMj9kyjoZI6zfilTsZ0mCaEdTD5FrObEPYbQhs3Bkye3CZYneK88R3nZzcaaGKvMZnKXpfqZPE5UBwUvxl77KyCfSFT_cLIGaUsBuKgAsid64RD9rYCISwNOa8m-5gp_nbw05ZMqcs3jXpVgGg8iqLCRi-Z9IjEr8h9op6l77URu8gmdH6vcLKte5ffSCuBI3bNkbjg7tQBxuW0hmVELagxmzyCDNBzmCtfLXbNv-W-dBgKK/file\n",
      "Reusing existing connection to ucba33561a94db7bd75609ed1009.dl.dropboxusercontent.com:443.\n",
      "HTTP request sent, awaiting response... 200 OK\n",
      "Length: 24821 (24K) [application/octet-stream]\n",
      "Saving to: ‘permutationvectors.bin’\n",
      "\n",
      "permutationvectors. 100%[===================>]  24.24K  --.-KB/s    in 0.002s  \n",
      "\n",
      "2019-07-12 15:09:23 (10.7 MB/s) - ‘permutationvectors.bin’ saved [24821/24821]\n",
      "\n",
      "--2019-07-12 15:09:23--  https://www.dropbox.com/s/nf28cvp1ocvyh1s/elementalvectors.bin\n",
      "Resolving www.dropbox.com... 162.125.1.1\n",
      "Connecting to www.dropbox.com|162.125.1.1|:443... connected.\n",
      "HTTP request sent, awaiting response... 301 Moved Permanently\n",
      "Location: /s/raw/nf28cvp1ocvyh1s/elementalvectors.bin [following]\n",
      "--2019-07-12 15:09:23--  https://www.dropbox.com/s/raw/nf28cvp1ocvyh1s/elementalvectors.bin\n",
      "Reusing existing connection to www.dropbox.com:443.\n",
      "HTTP request sent, awaiting response... 302 Found\n",
      "Location: https://uc66bff4cf0a92b25448e3580f0c.dl.dropboxusercontent.com/cd/0/inline/AknSbRKm4tZ6yJInBH_nPb3HwNtM6m9Amrh84GB1yS3gsPdCJDdDWd8bHeFBPw8ITg_W0iwr6zov8cJFz9b8XFcLx_fMJJ0V6bL2_q3l7CGD-Q/file# [following]\n",
      "--2019-07-12 15:09:23--  https://uc66bff4cf0a92b25448e3580f0c.dl.dropboxusercontent.com/cd/0/inline/AknSbRKm4tZ6yJInBH_nPb3HwNtM6m9Amrh84GB1yS3gsPdCJDdDWd8bHeFBPw8ITg_W0iwr6zov8cJFz9b8XFcLx_fMJJ0V6bL2_q3l7CGD-Q/file\n",
      "Resolving uc66bff4cf0a92b25448e3580f0c.dl.dropboxusercontent.com... 162.125.1.6\n",
      "Connecting to uc66bff4cf0a92b25448e3580f0c.dl.dropboxusercontent.com|162.125.1.6|:443... connected.\n",
      "HTTP request sent, awaiting response... 302 FOUND\n",
      "Location: /cd/0/inline2/AkkteDZtYpUBK_plBQUTsiYtsf2tAIhm_wLvi_RWOtcfTxMgX20greGqHuVWH7iHN--UuMduo6509okg5W0gMGoBuDF0mxhyhUU_r0RY20bHwSYSORyZ0PaGpeHUC8UCiESg1UUQ6JfVbOMv-84Kvxbq9BOPXodcMUlolQI9ky3UJ2EX840RlEpYA1C327Krhmj2cQ-kwuPH63RCYc3eL-bIcI2FdKG-1Rwc4FYoxZ8yIX7pk-FmhRHjBR4xzD3Z16QLTHIYn6GHJ6k0G30ieyNfns84FmX12Poqs9o-_FQXz6uV1-PrDfkdIkDN1a010_aaXm_jybEM649IsN9rJAVE/file [following]\n",
      "--2019-07-12 15:09:24--  https://uc66bff4cf0a92b25448e3580f0c.dl.dropboxusercontent.com/cd/0/inline2/AkkteDZtYpUBK_plBQUTsiYtsf2tAIhm_wLvi_RWOtcfTxMgX20greGqHuVWH7iHN--UuMduo6509okg5W0gMGoBuDF0mxhyhUU_r0RY20bHwSYSORyZ0PaGpeHUC8UCiESg1UUQ6JfVbOMv-84Kvxbq9BOPXodcMUlolQI9ky3UJ2EX840RlEpYA1C327Krhmj2cQ-kwuPH63RCYc3eL-bIcI2FdKG-1Rwc4FYoxZ8yIX7pk-FmhRHjBR4xzD3Z16QLTHIYn6GHJ6k0G30ieyNfns84FmX12Poqs9o-_FQXz6uV1-PrDfkdIkDN1a010_aaXm_jybEM649IsN9rJAVE/file\n",
      "Reusing existing connection to uc66bff4cf0a92b25448e3580f0c.dl.dropboxusercontent.com:443.\n",
      "HTTP request sent, awaiting response... 200 OK\n",
      "Length: 27530388 (26M) [application/octet-stream]\n",
      "Saving to: ‘elementalvectors.bin’\n",
      "\n",
      "elementalvectors.bi 100%[===================>]  26.25M  24.0MB/s    in 1.1s    \n",
      "\n",
      "2019-07-12 15:09:25 (24.0 MB/s) - ‘elementalvectors.bin’ saved [27530388/27530388]\n",
      "\n"
     ]
    }
   ],
   "source": [
    "#run once - small sets of vectors for development (low-D, high minimum frequency threshold so relatively few concepts)\n",
    "!wget https://www.dropbox.com/s/3f5qg9nfop2l45e/semanticvectors.bin\n",
    "!wget https://www.dropbox.com/s/r8r8ffw9rnjmmo0/permutationvectors.bin\n",
    "!wget https://www.dropbox.com/s/nf28cvp1ocvyh1s/elementalvectors.bin"
   ]
  },
  {
   "cell_type": "code",
   "execution_count": 9,
   "metadata": {},
   "outputs": [
    {
     "name": "stdout",
     "output_type": "stream",
     "text": [
      "elementalvectors.bin    permutationvectors.bin  semvec_utils_demo.ipynb\r\n",
      "permutations_demo.ipynb semanticvectors.bin\r\n"
     ]
    }
   ],
   "source": [
    "!ls\n",
    "import copy\n",
    "import sys\n",
    "sys.path.append(\"../\")\n",
    "import permutations.semvec_utils as sv\n",
    "import permutations.constants as c\n",
    "import permutations.sparse_permutations as sp\n",
    "import permutations.semvec_utils as sv"
   ]
  },
  {
   "cell_type": "code",
   "execution_count": 10,
   "metadata": {},
   "outputs": [],
   "source": [
    "#run once \n",
    "semanticvectors = sv.readfile('semanticvectors.bin')\n",
    "elementalvectors = sv.readfile('elementalvectors.bin')\n",
    "permutation_cache = sv.readfile('permutationvectors.bin')\n"
   ]
  },
  {
   "cell_type": "code",
   "execution_count": 11,
   "metadata": {},
   "outputs": [
    {
     "name": "stdout",
     "output_type": "stream",
     "text": [
      "['docetaxel', 'gemcitabine', 'etoposide', 'paclitaxel', 'carboplatin', 'erlotinib', 'gefitinib', 'capecitabine', 'cetuximab', 'fluorouracil']\n",
      "['docetaxel', 'gemcitabine', 'etoposide', 'paclitaxel', 'carboplatin', 'erlotinib', 'gefitinib', 'capecitabine', 'cetuximab', 'fluorouracil']\n"
     ]
    }
   ],
   "source": [
    "#nearest neighbor by term or by vector\n",
    "print(sv.get_k_vec_neighbors(semanticvectors,'docetaxel',10))\n",
    "print(sv.get_k_neighbors(semanticvectors,sv.getvector(semanticvectors,'docetaxel'),10))"
   ]
  },
  {
   "cell_type": "code",
   "execution_count": 12,
   "metadata": {},
   "outputs": [
    {
     "name": "stdout",
     "output_type": "stream",
     "text": [
      "['dopamine_antagonists', 'antidepressive_agents', 'monoamine_oxidase_inhibitors', 'serotonin_uptake_inhibitors', 'reuptake_inhibitors', 'antipsychotic_agents', 'selective_serotonin_re-uptake_inhibitor', 'antidepressive_agents,_tricyclic', 'atypical_antipsychotic', 'serotonin_agents']\n"
     ]
    }
   ],
   "source": [
    "#single predicate search\n",
    "semvec=copy.copy(sv.getvector(semanticvectors,'prozac'))\n",
    "permvec=sp.permute_vector(sv.getvector(permutation_cache,'_ISA'),semvec)\n",
    "results=sv.get_k_neighbors(elementalvectors, permvec, 10)\n",
    "print(results)"
   ]
  },
  {
   "cell_type": "code",
   "execution_count": 13,
   "metadata": {},
   "outputs": [
    {
     "name": "stdout",
     "output_type": "stream",
     "text": [
      "['plants', 'obsessive-compulsive_disorder', 'phobia,_social', 'depression,_bipolar', 'schizoaffective_disorder', 'sleeplessness', 'relationships', 'cattle', 'chronic_schizophrenia', 'country']\n"
     ]
    }
   ],
   "source": [
    "#double predicate search - not sure why plants and cattle show up, but the others make sense\n",
    "semvec=copy.copy(sv.getvector(semanticvectors,'prozac'))\n",
    "permvec=sp.permute_vector(sv.getvector(permutation_cache,'_ISA'),semvec)\n",
    "permvec=sp.permute_vector(sv.getvector(permutation_cache,'TREATS-INV'),permvec)\n",
    "results=sv.get_k_neighbors(semanticvectors, permvec, 10)\n",
    "print(results)"
   ]
  },
  {
   "cell_type": "code",
   "execution_count": 14,
   "metadata": {},
   "outputs": [
    {
     "name": "stdout",
     "output_type": "stream",
     "text": [
      "--2019-07-12 15:11:24--  https://www.dropbox.com/s/53x384ca2ehhcnd/semanticvectors_1024.bin\n",
      "Resolving www.dropbox.com... 162.125.1.1\n",
      "Connecting to www.dropbox.com|162.125.1.1|:443... connected.\n",
      "HTTP request sent, awaiting response... 301 Moved Permanently\n",
      "Location: /s/raw/53x384ca2ehhcnd/semanticvectors_1024.bin [following]\n",
      "--2019-07-12 15:11:24--  https://www.dropbox.com/s/raw/53x384ca2ehhcnd/semanticvectors_1024.bin\n",
      "Reusing existing connection to www.dropbox.com:443.\n",
      "HTTP request sent, awaiting response... 302 Found\n",
      "Location: https://uc054c07c66c00d1e24016e6b068.dl.dropboxusercontent.com/cd/0/inline/AkkPYTEtKg9rsvYc1_yJZpwrN9cvoSPkDpirL9fZI8D405vusSlkSy9zs3Gh0ww69arazDATxUcn5aPwDDgkJagLwY2CkCKfmzFltIA8OYIYFA/file# [following]\n",
      "--2019-07-12 15:11:24--  https://uc054c07c66c00d1e24016e6b068.dl.dropboxusercontent.com/cd/0/inline/AkkPYTEtKg9rsvYc1_yJZpwrN9cvoSPkDpirL9fZI8D405vusSlkSy9zs3Gh0ww69arazDATxUcn5aPwDDgkJagLwY2CkCKfmzFltIA8OYIYFA/file\n",
      "Resolving uc054c07c66c00d1e24016e6b068.dl.dropboxusercontent.com... 162.125.1.6\n",
      "Connecting to uc054c07c66c00d1e24016e6b068.dl.dropboxusercontent.com|162.125.1.6|:443... connected.\n",
      "HTTP request sent, awaiting response... 302 FOUND\n",
      "Location: /cd/0/inline2/Akl9YWFbKixL1l5EMGX6uy3HtovKQDk4M7X-uJNPuWXelE9I7Y3OXO56QcOEJf9j0k_FAdM5T8Cnw1RbLgeYmaHvwhj4iZFg-A9nQs1mdHvt3-_ouokkGtoen86_f55gwNsQ7w2uz3CkIRb7NQfvtL22dcG6RXztDQUzTjQS6_oJnEV9o526tlDr97ceFN9WuD5GpHvWf0YGAwdQuboTm7SckehQmTWwXv1eozt_BAMY36DfRKc74yITdVadbcjoh3KGgBaLsFGXiQ2GXXEtNpnoysdF-wjtdNr7M4nRzb5fw2U205UVdOZRrwe4r0FsvmZjaoqucoH6AZfyl7lJu0T9/file [following]\n",
      "--2019-07-12 15:11:24--  https://uc054c07c66c00d1e24016e6b068.dl.dropboxusercontent.com/cd/0/inline2/Akl9YWFbKixL1l5EMGX6uy3HtovKQDk4M7X-uJNPuWXelE9I7Y3OXO56QcOEJf9j0k_FAdM5T8Cnw1RbLgeYmaHvwhj4iZFg-A9nQs1mdHvt3-_ouokkGtoen86_f55gwNsQ7w2uz3CkIRb7NQfvtL22dcG6RXztDQUzTjQS6_oJnEV9o526tlDr97ceFN9WuD5GpHvWf0YGAwdQuboTm7SckehQmTWwXv1eozt_BAMY36DfRKc74yITdVadbcjoh3KGgBaLsFGXiQ2GXXEtNpnoysdF-wjtdNr7M4nRzb5fw2U205UVdOZRrwe4r0FsvmZjaoqucoH6AZfyl7lJu0T9/file\n",
      "Reusing existing connection to uc054c07c66c00d1e24016e6b068.dl.dropboxusercontent.com:443.\n",
      "HTTP request sent, awaiting response... 200 OK\n",
      "Length: 4349794 (4.1M) [application/octet-stream]\n",
      "Saving to: ‘semanticvectors_1024.bin’\n",
      "\n",
      "semanticvectors_102 100%[===================>]   4.15M  --.-KB/s    in 0.1s    \n",
      "\n",
      "2019-07-12 15:11:25 (28.4 MB/s) - ‘semanticvectors_1024.bin’ saved [4349794/4349794]\n",
      "\n"
     ]
    }
   ],
   "source": [
    "#run once\n",
    "!wget https://www.dropbox.com/s/53x384ca2ehhcnd/semanticvectors_1024.bin"
   ]
  },
  {
   "cell_type": "code",
   "execution_count": 15,
   "metadata": {},
   "outputs": [],
   "source": [
    "vecs=sv.readfile('semanticvectors_1024.bin')\n"
   ]
  },
  {
   "cell_type": "code",
   "execution_count": 16,
   "metadata": {},
   "outputs": [
    {
     "name": "stdout",
     "output_type": "stream",
     "text": [
      "['paclitaxel', 'bax_gene|bax', 'caspase-3', 'bortezomib', 'etoposide', 'caspase', 'curcumin', 'survivin', 'bcl2-related_protein_11|bcl2l11', 'proto-oncogene_proteins_c-myc|myc']\n"
     ]
    }
   ],
   "source": [
    "print(sv.get_k_bvec_neighbors(vecs,'paclitaxel',10))"
   ]
  },
  {
   "cell_type": "code",
   "execution_count": null,
   "metadata": {},
   "outputs": [],
   "source": []
  }
 ],
 "metadata": {
  "kernelspec": {
   "display_name": "Python 2",
   "language": "python",
   "name": "python2"
  },
  "language_info": {
   "codemirror_mode": {
    "name": "ipython",
    "version": 3
   },
   "file_extension": ".py",
   "mimetype": "text/x-python",
   "name": "python",
   "nbconvert_exporter": "python",
   "pygments_lexer": "ipython3",
   "version": "3.6.7"
  }
 },
 "nbformat": 4,
 "nbformat_minor": 1
}
