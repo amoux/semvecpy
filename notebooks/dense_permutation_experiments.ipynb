{
 "cells": [
  {
   "cell_type": "markdown",
   "metadata": {},
   "source": [
    "# Experiments with Dense Vectors"
   ]
  },
  {
   "cell_type": "code",
   "execution_count": 1,
   "metadata": {},
   "outputs": [],
   "source": [
    "import os\n",
    "import sys\n",
    "import numpy as np\n",
    "from numba import jit\n",
    "sys.path.append(os.path.abspath('../')) # needed to import from permutations sibling directory\n",
    "from permutations import dense_permutations as p"
   ]
  },
  {
   "cell_type": "code",
   "execution_count": 2,
   "metadata": {},
   "outputs": [],
   "source": [
    "# Generate some vectors\n",
    "a = p.get_random_vector(100)\n",
    "b = p.get_random_vector(100)\n",
    "c = p.get_random_vector(100)\n",
    "\n",
    "# Generate some predicates\n",
    "p_a = p.get_random_permutation(100)\n",
    "p_b = p.get_random_permutation(100)\n",
    "p_c = p.get_random_permutation(100)"
   ]
  },
  {
   "cell_type": "code",
   "execution_count": 8,
   "metadata": {},
   "outputs": [],
   "source": [
    "# In theory, this should give us the ability to deduce a permutation from two source vectors; untested\n",
    "def deduceperm(permuted, unpermuted): \n",
    "     return np.argsort(np.argsort(permuted)[np.argsort(np.argsort(unpermuted))]) \n",
    "    \n",
    "\n",
    "# Changes a permutation to be like another permutation, where howmuch is the number of dimensions the input perm\n",
    "# should have in common with tobelike. In theory it should never become disjoint with range(dimension), but I haven't\n",
    "# rigorously tested it. Assuming it's fed with a permutation derived from range(dimension), that is.\n",
    "def trainpermutation(perm, tobelike, howmuch):\n",
    "    likeness = np.sum(perm == tobelike)\n",
    "    perm1 = np.copy(perm) \n",
    "    while likeness < howmuch: \n",
    "        tochange = np.random.choice(np.where(perm1 != tobelike)[0]) \n",
    "        perm1[np.where(perm1 == tobelike[tochange])] = perm1[tochange] \n",
    "        perm1[tochange] = tobelike[tochange] \n",
    "        likeness = np.sum(perm1 == tobelike) \n",
    "    return perm1        "
   ]
  },
  {
   "cell_type": "code",
   "execution_count": 4,
   "metadata": {},
   "outputs": [
    {
     "name": "stdout",
     "output_type": "stream",
     "text": [
      "[]\n",
      "50\n"
     ]
    }
   ],
   "source": [
    "p_ta = trainpermutation(p.get_random_permutation(100), p_a, 50) # make a permutation with 50 dimensions in common with p_a\n",
    "print(np.setdiff1d(np.arange(100), p_ta)) # should be an empty list\n",
    "print(np.sum(p_ta == p_a)) # should be precisely 50"
   ]
  },
  {
   "cell_type": "code",
   "execution_count": 7,
   "metadata": {},
   "outputs": [
    {
     "name": "stdout",
     "output_type": "stream",
     "text": [
      "0.5309507\n",
      "0.68518347\n",
      "0.44493514\n",
      "0.44493514\n"
     ]
    }
   ],
   "source": [
    "print(p.cosine_similarity(a[p_a], a[p_b])) # basically random\n",
    "print(p.cosine_similarity(a[p_ta], a[p_a])) # same vector, more similar permutations, should be more similar\n",
    "print(p.cosine_similarity(a,b))\n",
    "print(p.cosine_similarity(a[p_a], b[p_a])) # dissimilar vectors, same permutation, should be (identically to unpermuted) dissimilar"
   ]
  },
  {
   "cell_type": "code",
   "execution_count": 11,
   "metadata": {},
   "outputs": [
    {
     "data": {
      "text/plain": [
       "100"
      ]
     },
     "execution_count": 11,
     "metadata": {},
     "output_type": "execute_result"
    }
   ],
   "source": [
    "np.sum(deduceperm(a[p_a], a) == p_a) # should be 100 (e.g. every dimension should match)"
   ]
  },
  {
   "cell_type": "markdown",
   "metadata": {},
   "source": [
    "## Training Things\n",
    "If we want to train, we should go for something like `sigmoid(vec[permutation].dot(vec2))`"
   ]
  },
  {
   "cell_type": "code",
   "execution_count": 12,
   "metadata": {},
   "outputs": [],
   "source": [
    "def sigmoid(x):\n",
    "    return np.exp(-np.logaddexp(0, -x))"
   ]
  },
  {
   "cell_type": "code",
   "execution_count": 15,
   "metadata": {},
   "outputs": [
    {
     "data": {
      "text/plain": [
       "0.9448489752648982"
      ]
     },
     "execution_count": 15,
     "metadata": {},
     "output_type": "execute_result"
    }
   ],
   "source": [
    "sigmoid(a[p_a].dot(c))"
   ]
  },
  {
   "cell_type": "code",
   "execution_count": null,
   "metadata": {},
   "outputs": [],
   "source": []
  }
 ],
 "metadata": {
  "kernelspec": {
   "display_name": "Python 3",
   "language": "python",
   "name": "python3"
  },
  "language_info": {
   "codemirror_mode": {
    "name": "ipython",
    "version": 3
   },
   "file_extension": ".py",
   "mimetype": "text/x-python",
   "name": "python",
   "nbconvert_exporter": "python",
   "pygments_lexer": "ipython3",
   "version": "3.7.3"
  }
 },
 "nbformat": 4,
 "nbformat_minor": 2
}
