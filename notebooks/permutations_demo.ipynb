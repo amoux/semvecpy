{
 "cells": [
  {
   "cell_type": "markdown",
   "metadata": {},
   "source": [
    "Permutations Notebook"
   ]
  },
  {
   "cell_type": "markdown",
   "metadata": {},
   "source": []
  },
  {
   "cell_type": "code",
   "execution_count": 3,
   "metadata": {
    "collapsed": true
   },
   "outputs": [
    {
     "name": "stdout",
     "output_type": "stream",
     "text": [
      "Similarity before sorting: 0.0361485983055526\nSimilarity after sorting: 0.04418720924119849\n"
     ]
    }
   ],
   "source": [
    "import permutations.sparse_permutations as p\n",
    "import permutations.constants as c\n",
    "\n",
    "vector1 = p.get_random_sparse_vector(c.DIMENSION, c.SEED_ENTRIES)\n",
    "p.normalize(vector1)\n",
    "vector2 = p.get_random_sparse_vector(c.DIMENSION, c.SEED_ENTRIES)\n",
    "p.normalize(vector2)\n",
    "print(\"Similarity before sorting:\", sum(vector1 * vector2))\n",
    "perm_vector1 = p.permute_vector(p.get_sort_permutation(vector1), vector1)\n",
    "perm_vector2 = p.permute_vector(p.get_sort_permutation(vector2), vector2)\n",
    "print(\"Similarity after sorting:\", sum(perm_vector1 * perm_vector2))\n",
    "\n",
    "\n"
   ]
  },
  {
   "cell_type": "code",
   "execution_count": 4,
   "metadata": {},
   "outputs": [],
   "source": []
  },
  {
   "cell_type": "code",
   "execution_count": 4,
   "metadata": {},
   "outputs": [],
   "source": []
  },
  {
   "cell_type": "code",
   "execution_count": null,
   "metadata": {},
   "outputs": [],
   "source": []
  }
 ],
 "metadata": {
  "kernelspec": {
   "display_name": "Python 2",
   "language": "python",
   "name": "python2"
  },
  "language_info": {
   "codemirror_mode": {
    "name": "ipython",
    "version": 2
   },
   "file_extension": ".py",
   "mimetype": "text/x-python",
   "name": "python",
   "nbconvert_exporter": "python",
   "pygments_lexer": "ipython2",
   "version": "2.7.6"
  }
 },
 "nbformat": 4,
 "nbformat_minor": 0
}
